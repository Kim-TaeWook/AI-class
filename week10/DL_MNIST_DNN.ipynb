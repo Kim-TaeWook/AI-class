{
 "cells": [
  {
   "cell_type": "markdown",
   "id": "ed7105d8-e5bd-4969-a5a1-8b88603bced5",
   "metadata": {},
   "source": [
    "# 1. 라이브러리 불러오기  \n",
    "- 데이터 처리, 전처리, 학습, 시각화에 필요한 라이브러리를 불러옵니다."
   ]
  },
  {
   "cell_type": "code",
   "execution_count": 1,
   "id": "5d5ecebd-4b01-4196-93a0-d231c3844cdd",
   "metadata": {},
   "outputs": [],
   "source": [
    "# 라이브러리 불러오기\n",
    "import numpy as np\n",
    "import matplotlib.pyplot as plt\n",
    "from sklearn import datasets, metrics\n",
    "from sklearn.model_selection import train_test_split\n",
    "from sklearn.preprocessing import OneHotEncoder, StandardScaler\n",
    "import torch\n",
    "import torch.nn as nn\n",
    "import torch.optim as optim\n",
    "from torch.utils.data import TensorDataset, DataLoader"
   ]
  },
  {
   "cell_type": "markdown",
   "id": "1351c6f2-d1c8-4a8f-970a-7fd0e5fd3fb9",
   "metadata": {},
   "source": [
    "# 2. 데이터 로드  \n",
    "\n",
    "- sklearn의 digits 데이터셋을 불러옵니다.\n",
    "- 각 이미지는 8x8의 흑백 이미지로, 총 1797개의 숫자 샘플(0~9)이 포함되어 있습니다."
   ]
  },
  {
   "cell_type": "code",
   "execution_count": 2,
   "id": "49a14675-1337-426c-b9a1-e66caf03a7d0",
   "metadata": {},
   "outputs": [],
   "source": [
    "# 데이터 로드 및 전처리\n",
    "digits = datasets.load_digits()\n",
    "X = digits.images.reshape((len(digits.images), -1))  # (1797, 64)\n",
    "y = digits.target.reshape(-1, 1)                     # (1797, 1)"
   ]
  },
  {
   "cell_type": "code",
   "execution_count": 3,
   "id": "a85b6f89-314c-4929-8150-55685f05a94d",
   "metadata": {},
   "outputs": [
    {
     "name": "stdout",
     "output_type": "stream",
     "text": [
      "X.shape: (1797, 64)\n",
      "y.shape: (1797, 1)\n"
     ]
    }
   ],
   "source": [
    "print(\"X.shape:\", X.shape)  # (1797, 64)\n",
    "print(\"y.shape:\", y.shape)  # (1797, 1)"
   ]
  },
  {
   "cell_type": "markdown",
   "id": "f632615c-bf15-421c-a08d-737c02118715",
   "metadata": {},
   "source": [
    "# 3. 정규화  \n",
    "- 정규화를 통해 각 픽셀값의 분포를 평균 0, 표준편차 1로 맞춰줍니다.  \n",
    "- 신경망 학습 시 안정적이고 빠른 수렴을 돕습니다."
   ]
  },
  {
   "cell_type": "code",
   "execution_count": 4,
   "id": "8b04ea56-df5b-4b57-b234-7b0f155c3039",
   "metadata": {},
   "outputs": [],
   "source": [
    "# 정규화\n",
    "scaler = StandardScaler()\n",
    "X_scaled = scaler.fit_transform(X)"
   ]
  },
  {
   "cell_type": "code",
   "execution_count": 5,
   "id": "26288559-2f37-47c4-bc89-15a30c41b8a6",
   "metadata": {},
   "outputs": [
    {
     "name": "stdout",
     "output_type": "stream",
     "text": [
      "X_scaled 평균: 8.649483775599439e-19 표준편차: 0.9762812094883324\n"
     ]
    }
   ],
   "source": [
    "print(\"X_scaled 평균:\", np.mean(X_scaled), \"표준편차:\", np.std(X_scaled))"
   ]
  },
  {
   "cell_type": "markdown",
   "id": "8c94d2d5-a18a-48c4-a25e-9fb5010fc0a9",
   "metadata": {},
   "source": [
    "# 4. One-hot 인코딩  \n",
    "- 다중 클래스 분류를 위해 레이블을 One-hot 형태로 변환합니다.  \n",
    "- 예: 숫자 3 → [0, 0, 0, 1, 0, 0, 0, 0, 0, 0]"
   ]
  },
  {
   "cell_type": "code",
   "execution_count": 6,
   "id": "61384960-44c7-4a9c-ae16-121ff47e897e",
   "metadata": {},
   "outputs": [],
   "source": [
    "# One-hot 인코딩\n",
    "encoder = OneHotEncoder(sparse_output=False)\n",
    "y_encoded = encoder.fit_transform(y)"
   ]
  },
  {
   "cell_type": "code",
   "execution_count": 7,
   "id": "e6f3af98-feee-4311-ad41-6b2012d0938e",
   "metadata": {},
   "outputs": [
    {
     "name": "stdout",
     "output_type": "stream",
     "text": [
      "y_encoded 예시:\n",
      " [[1. 0. 0. 0. 0. 0. 0. 0. 0. 0.]\n",
      " [0. 1. 0. 0. 0. 0. 0. 0. 0. 0.]\n",
      " [0. 0. 1. 0. 0. 0. 0. 0. 0. 0.]]\n"
     ]
    }
   ],
   "source": [
    "print(\"y_encoded 예시:\\n\", y_encoded[:3])"
   ]
  },
  {
   "cell_type": "markdown",
   "id": "ab31517f-9433-4dbd-b312-f6d132901a1b",
   "metadata": {},
   "source": [
    "# 5. 학습 / 테스트 분리  \n",
    "- 전체 데이터 중 20%를 테스트용으로 분리하여 모델의 일반화 성능을 평가합니다."
   ]
  },
  {
   "cell_type": "code",
   "execution_count": 8,
   "id": "af18a78c-4eef-403a-ad89-9b2ba72c33be",
   "metadata": {},
   "outputs": [],
   "source": [
    "# 학습/테스트 분할\n",
    "X_train, X_test, y_train, y_test = train_test_split(X_scaled, y_encoded, test_size=0.2, random_state=42)"
   ]
  },
  {
   "cell_type": "code",
   "execution_count": 9,
   "id": "22ec3aa3-c560-4e81-9c61-ec38f58d8c88",
   "metadata": {},
   "outputs": [
    {
     "name": "stdout",
     "output_type": "stream",
     "text": [
      "X_train: (1437, 64) y_train: (1437, 10)\n",
      "X_test : (360, 64) y_test : (360, 10)\n"
     ]
    }
   ],
   "source": [
    "print(\"X_train:\", X_train.shape, \"y_train:\", y_train.shape)\n",
    "print(\"X_test :\", X_test.shape, \"y_test :\", y_test.shape)"
   ]
  },
  {
   "cell_type": "markdown",
   "id": "e39b88e4-b7b1-471b-9fb3-08b5f982001d",
   "metadata": {},
   "source": [
    "# 6. Tensor 변환 & DataLoader  \n",
    "- PyTorch는 텐서 기반 연산이므로 numpy 데이터를 torch.Tensor로 변환합니다.  \n",
    "- DataLoader를 통해 미니배치 학습이 가능하도록 구성합니다."
   ]
  },
  {
   "cell_type": "code",
   "execution_count": 10,
   "id": "085fcce7-ef7a-4279-86f4-d7cf878e707c",
   "metadata": {},
   "outputs": [],
   "source": [
    "# 텐서로 변환\n",
    "X_train_tensor = torch.FloatTensor(X_train)\n",
    "y_train_tensor = torch.FloatTensor(y_train)\n",
    "X_test_tensor = torch.FloatTensor(X_test)\n",
    "y_test_tensor = torch.FloatTensor(y_test)"
   ]
  },
  {
   "cell_type": "code",
   "execution_count": 11,
   "id": "9e9f4993-3b1c-48f5-b1e7-f5eb5a850f15",
   "metadata": {},
   "outputs": [],
   "source": [
    "train_dataset = TensorDataset(X_train_tensor, y_train_tensor)\n",
    "train_loader = DataLoader(train_dataset, batch_size=32, shuffle=True)"
   ]
  },
  {
   "cell_type": "code",
   "execution_count": 12,
   "id": "5d26953c-ec76-4821-82ca-6dbdf58dee31",
   "metadata": {},
   "outputs": [
    {
     "name": "stdout",
     "output_type": "stream",
     "text": [
      "배치 입력: torch.Size([32, 64]) 배치 정답: torch.Size([32, 10])\n"
     ]
    }
   ],
   "source": [
    "for batch_X, batch_y in train_loader:\n",
    "    print(\"배치 입력:\", batch_X.shape, \"배치 정답:\", batch_y.shape)\n",
    "    break"
   ]
  },
  {
   "cell_type": "markdown",
   "id": "3928db85-4c60-42cd-a6a8-cc01e89d0694",
   "metadata": {},
   "source": [
    "# 7. DNN 모델 정의  \n",
    "- 입력층 64 → 은닉층 128 → 은닉층 64 → 출력층 10 (softmax)  \n",
    "- 활성화 함수는 ReLU를 사용하여 비선형성을 부여합니다."
   ]
  },
  {
   "cell_type": "code",
   "execution_count": 13,
   "id": "7e62eada-d5bb-4325-825f-0ccf1d7f5161",
   "metadata": {},
   "outputs": [],
   "source": [
    "# DNN 모델 정의\n",
    "class DNN(nn.Module):\n",
    "    def __init__(self):\n",
    "        super(DNN, self).__init__()\n",
    "        self.model = nn.Sequential(\n",
    "            nn.Linear(64, 128),\n",
    "            nn.ReLU(),\n",
    "            nn.Linear(128, 64),\n",
    "            nn.ReLU(),\n",
    "            nn.Linear(64, 10),\n",
    "            nn.Softmax(dim=1)\n",
    "        )\n",
    "        \n",
    "    def forward(self, x):\n",
    "        return self.model(x)\n",
    "\n",
    "model = DNN()"
   ]
  },
  {
   "cell_type": "markdown",
   "id": "091a77f2-5a03-41d2-aa98-04d8e7956c39",
   "metadata": {},
   "source": [
    "# 8. 모델 학습  \n",
    "- 손실함수: CrossEntropyLoss (다중 클래스 분류용)  \n",
    "- 최적화기: Adam (빠르고 안정적인 경사하강법)  \n",
    "- 각 epoch마다 손실값을 출력하여 학습 과정을 확인합니다."
   ]
  },
  {
   "cell_type": "code",
   "execution_count": 14,
   "id": "7e4253ac-2f47-4116-b916-de04d895b756",
   "metadata": {},
   "outputs": [
    {
     "name": "stdout",
     "output_type": "stream",
     "text": [
      "Epoch 1/20, Loss: 98.9285\n",
      "Epoch 2/20, Loss: 79.5103\n",
      "Epoch 3/20, Loss: 72.4534\n",
      "Epoch 4/20, Loss: 69.2095\n",
      "Epoch 5/20, Loss: 67.7585\n",
      "Epoch 6/20, Loss: 67.1349\n",
      "Epoch 7/20, Loss: 66.7646\n",
      "Epoch 8/20, Loss: 66.5010\n",
      "Epoch 9/20, Loss: 66.3417\n",
      "Epoch 10/20, Loss: 66.2617\n",
      "Epoch 11/20, Loss: 66.1806\n",
      "Epoch 12/20, Loss: 66.1415\n",
      "Epoch 13/20, Loss: 66.0906\n",
      "Epoch 14/20, Loss: 66.0689\n",
      "Epoch 15/20, Loss: 66.0507\n",
      "Epoch 16/20, Loss: 66.0346\n",
      "Epoch 17/20, Loss: 66.0234\n",
      "Epoch 18/20, Loss: 66.0030\n",
      "Epoch 19/20, Loss: 65.9844\n",
      "Epoch 20/20, Loss: 65.9772\n"
     ]
    }
   ],
   "source": [
    "# 컴파일 및 학습\n",
    "criterion = nn.CrossEntropyLoss()\n",
    "optimizer = optim.Adam(model.parameters(), lr=0.001)\n",
    "\n",
    "EPOCHS = 20\n",
    "for epoch in range(EPOCHS):\n",
    "    total_loss = 0\n",
    "    for batch_X, batch_y in train_loader:\n",
    "        optimizer.zero_grad()\n",
    "        outputs = model(batch_X)\n",
    "        loss = criterion(outputs, torch.max(batch_y, 1)[1])\n",
    "        loss.backward()\n",
    "        optimizer.step()\n",
    "        total_loss += loss.item()\n",
    "    print(f\"Epoch {epoch+1}/{EPOCHS}, Loss: {total_loss:.4f}\")"
   ]
  },
  {
   "cell_type": "code",
   "execution_count": 15,
   "id": "7ea5ef7f-b2a4-44a7-b5db-06f847dbce1b",
   "metadata": {},
   "outputs": [],
   "source": [
    "# 예측 + 시각화 + 성능 평가\n",
    "model.eval()\n",
    "with torch.no_grad():\n",
    "    y_pred_probs = model(X_test_tensor)\n",
    "    y_pred_classes = torch.argmax(y_pred_probs, axis=1)\n",
    "    y_true_classes = torch.argmax(y_test_tensor, axis=1)"
   ]
  },
  {
   "cell_type": "code",
   "execution_count": 16,
   "id": "1c7f76c5-f174-4261-8ba5-75cccae67d08",
   "metadata": {},
   "outputs": [
    {
     "data": {
      "image/png": "[encoded data removed]",
      "text/plain": [
       "<Figure size 640x480 with 1 Axes>"
      ]
     },
     "metadata": {},
     "output_type": "display_data"
    },
    {
     "data": {
      "image/png": "[encoded data removed]",
      "text/plain": [
       "<Figure size 640x480 with 1 Axes>"
      ]
     },
     "metadata": {},
     "output_type": "display_data"
    },
    {
     "data": {
      "image/png": "[encoded data removed]",
      "text/plain": [
       "<Figure size 640x480 with 1 Axes>"
      ]
     },
     "metadata": {},
     "output_type": "display_data"
    },
    {
     "data": {
      "image/png": "[encoded data removed]",
      "text/plain": [
       "<Figure size 640x480 with 1 Axes>"
      ]
     },
     "metadata": {},
     "output_type": "display_data"
    },
    {
     "data": {
      "image/png": "[encoded data removed]",
      "text/plain": [
       "<Figure size 640x480 with 1 Axes>"
      ]
     },
     "metadata": {},
     "output_type": "display_data"
    }
   ],
   "source": [
    "#한글 폰트 적용\n",
    "plt.rcParams['font.family'] = 'Malgun Gothic'  # 윈도우 기준\n",
    "plt.rcParams['axes.unicode_minus'] = False     # 마이너스 깨짐 방지\n",
    "\n",
    "# ✅ 예측 이미지 시각화 (5개 샘플)\n",
    "for i in range(5):\n",
    "    plt.imshow(X_test[i].reshape(8, 8), cmap='gray_r')\n",
    "    plt.title(f\"실제: {y_true_classes[i]}, 예측: {y_pred_classes[i]}\")\n",
    "    plt.axis('off')\n",
    "    plt.show()"
   ]
  },
  {
   "cell_type": "code",
   "execution_count": 17,
   "id": "19f97643-ef11-469a-91f3-6312e18321e4",
   "metadata": {},
   "outputs": [
    {
     "name": "stdout",
     "output_type": "stream",
     "text": [
      "✅ 정확도: 0.9750\n"
     ]
    }
   ],
   "source": [
    "# 정확도\n",
    "acc = metrics.accuracy_score(y_true_classes, y_pred_classes)\n",
    "print(f\"✅ 정확도: {acc:.4f}\")"
   ]
  },
  {
   "cell_type": "code",
   "execution_count": 18,
   "id": "4cea0dac-7514-4f8e-b5cb-59fae904eaa3",
   "metadata": {},
   "outputs": [
    {
     "name": "stdout",
     "output_type": "stream",
     "text": [
      "              precision    recall  f1-score   support\n",
      "\n",
      "           0       1.00      1.00      1.00        33\n",
      "           1       0.97      1.00      0.98        28\n",
      "           2       1.00      1.00      1.00        33\n",
      "           3       0.97      0.97      0.97        34\n",
      "           4       1.00      1.00      1.00        46\n",
      "           5       0.94      0.96      0.95        47\n",
      "           6       0.97      0.97      0.97        35\n",
      "           7       1.00      0.97      0.99        34\n",
      "           8       0.97      0.93      0.95        30\n",
      "           9       0.95      0.95      0.95        40\n",
      "\n",
      "    accuracy                           0.97       360\n",
      "   macro avg       0.98      0.98      0.98       360\n",
      "weighted avg       0.98      0.97      0.98       360\n",
      "\n"
     ]
    },
    {
     "data": {
      "image/png": "[encoded data removed]",
      "text/plain": [
       "<Figure size 640x480 with 2 Axes>"
      ]
     },
     "metadata": {},
     "output_type": "display_data"
    }
   ],
   "source": [
    "# Confusion Matrix & Report\n",
    "from sklearn.metrics import classification_report, confusion_matrix, ConfusionMatrixDisplay\n",
    "print(classification_report(y_true_classes, y_pred_classes))\n",
    "ConfusionMatrixDisplay.from_predictions(y_true_classes, y_pred_classes, cmap='Blues')\n",
    "plt.show()"
   ]
  }
 ],
 "metadata": {
  "kernelspec": {
   "display_name": "Python 3 (ipykernel)",
   "language": "python",
   "name": "python3"
  },
  "language_info": {
   "codemirror_mode": {
    "name": "ipython",
    "version": 3
   },
   "file_extension": ".py",
   "mimetype": "text/x-python",
   "name": "python",
   "nbconvert_exporter": "python",
   "pygments_lexer": "ipython3",
   "version": "3.9.16"
  }
 },
 "nbformat": 4,
 "nbformat_minor": 5
}
