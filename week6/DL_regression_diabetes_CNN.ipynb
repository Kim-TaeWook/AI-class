{
 "cells": [
  {
   "cell_type": "code",
   "execution_count": 1,
   "id": "612c3b40-d028-4709-932d-88ac421feb10",
   "metadata": {},
   "outputs": [],
   "source": [
    "import pandas as pd\n",
    "import numpy as np\n",
    "import torch\n",
    "import torch.nn as nn\n",
    "import torch.optim as optim\n",
    "from torch.utils.data import Dataset, DataLoader, TensorDataset\n",
    "from sklearn.metrics import precision_score, recall_score, f1_score, roc_auc_score, confusion_matrix, ConfusionMatrixDisplay\n",
    "\n",
    "import matplotlib.pyplot as plt\n",
    "from torchsummary import summary\n",
    "\n",
    "from sklearn.preprocessing import StandardScaler\n",
    "from sklearn.model_selection import train_test_split\n",
    "from sklearn.metrics import mean_squared_error\n",
    "from sklearn.metrics import r2_score"
   ]
  },
  {
   "cell_type": "code",
   "execution_count": 2,
   "id": "3c9999c9-da12-4bce-8b05-58b72a42bf0f",
   "metadata": {},
   "outputs": [],
   "source": [
    "# 데이터셋 인스턴스 생성\n",
    "data = pd.read_csv('https://raw.githubusercontent.com/Kim-TaeWook/AI-class/refs/heads/main/week6/diabetes.csv')  # CSV 파일 경로"
   ]
  },
  {
   "cell_type": "code",
   "execution_count": 3,
   "id": "92c24c7d-6d00-4b30-b929-2f345654921b",
   "metadata": {},
   "outputs": [
    {
     "data": {
      "text/html": [
       "<div>\n",
       "<style scoped>\n",
       "    .dataframe tbody tr th:only-of-type {\n",
       "        vertical-align: middle;\n",
       "    }\n",
       "\n",
       "    .dataframe tbody tr th {\n",
       "        vertical-align: top;\n",
       "    }\n",
       "\n",
       "    .dataframe thead th {\n",
       "        text-align: right;\n",
       "    }\n",
       "</style>\n",
       "<table border=\"1\" class=\"dataframe\">\n",
       "  <thead>\n",
       "    <tr style=\"text-align: right;\">\n",
       "      <th></th>\n",
       "      <th>Pregnancies</th>\n",
       "      <th>Glucose</th>\n",
       "      <th>BloodPressure</th>\n",
       "      <th>SkinThickness</th>\n",
       "      <th>Insulin</th>\n",
       "      <th>BMI</th>\n",
       "      <th>DiabetesPedigreeFunction</th>\n",
       "      <th>Age</th>\n",
       "      <th>Outcome</th>\n",
       "    </tr>\n",
       "  </thead>\n",
       "  <tbody>\n",
       "    <tr>\n",
       "      <th>0</th>\n",
       "      <td>6</td>\n",
       "      <td>148</td>\n",
       "      <td>72</td>\n",
       "      <td>35</td>\n",
       "      <td>0</td>\n",
       "      <td>33.6</td>\n",
       "      <td>0.627</td>\n",
       "      <td>50</td>\n",
       "      <td>1</td>\n",
       "    </tr>\n",
       "    <tr>\n",
       "      <th>1</th>\n",
       "      <td>1</td>\n",
       "      <td>85</td>\n",
       "      <td>66</td>\n",
       "      <td>29</td>\n",
       "      <td>0</td>\n",
       "      <td>26.6</td>\n",
       "      <td>0.351</td>\n",
       "      <td>31</td>\n",
       "      <td>0</td>\n",
       "    </tr>\n",
       "    <tr>\n",
       "      <th>2</th>\n",
       "      <td>8</td>\n",
       "      <td>183</td>\n",
       "      <td>64</td>\n",
       "      <td>0</td>\n",
       "      <td>0</td>\n",
       "      <td>23.3</td>\n",
       "      <td>0.672</td>\n",
       "      <td>32</td>\n",
       "      <td>1</td>\n",
       "    </tr>\n",
       "    <tr>\n",
       "      <th>3</th>\n",
       "      <td>1</td>\n",
       "      <td>89</td>\n",
       "      <td>66</td>\n",
       "      <td>23</td>\n",
       "      <td>94</td>\n",
       "      <td>28.1</td>\n",
       "      <td>0.167</td>\n",
       "      <td>21</td>\n",
       "      <td>0</td>\n",
       "    </tr>\n",
       "    <tr>\n",
       "      <th>4</th>\n",
       "      <td>0</td>\n",
       "      <td>137</td>\n",
       "      <td>40</td>\n",
       "      <td>35</td>\n",
       "      <td>168</td>\n",
       "      <td>43.1</td>\n",
       "      <td>2.288</td>\n",
       "      <td>33</td>\n",
       "      <td>1</td>\n",
       "    </tr>\n",
       "    <tr>\n",
       "      <th>...</th>\n",
       "      <td>...</td>\n",
       "      <td>...</td>\n",
       "      <td>...</td>\n",
       "      <td>...</td>\n",
       "      <td>...</td>\n",
       "      <td>...</td>\n",
       "      <td>...</td>\n",
       "      <td>...</td>\n",
       "      <td>...</td>\n",
       "    </tr>\n",
       "    <tr>\n",
       "      <th>763</th>\n",
       "      <td>10</td>\n",
       "      <td>101</td>\n",
       "      <td>76</td>\n",
       "      <td>48</td>\n",
       "      <td>180</td>\n",
       "      <td>32.9</td>\n",
       "      <td>0.171</td>\n",
       "      <td>63</td>\n",
       "      <td>0</td>\n",
       "    </tr>\n",
       "    <tr>\n",
       "      <th>764</th>\n",
       "      <td>2</td>\n",
       "      <td>122</td>\n",
       "      <td>70</td>\n",
       "      <td>27</td>\n",
       "      <td>0</td>\n",
       "      <td>36.8</td>\n",
       "      <td>0.340</td>\n",
       "      <td>27</td>\n",
       "      <td>0</td>\n",
       "    </tr>\n",
       "    <tr>\n",
       "      <th>765</th>\n",
       "      <td>5</td>\n",
       "      <td>121</td>\n",
       "      <td>72</td>\n",
       "      <td>23</td>\n",
       "      <td>112</td>\n",
       "      <td>26.2</td>\n",
       "      <td>0.245</td>\n",
       "      <td>30</td>\n",
       "      <td>0</td>\n",
       "    </tr>\n",
       "    <tr>\n",
       "      <th>766</th>\n",
       "      <td>1</td>\n",
       "      <td>126</td>\n",
       "      <td>60</td>\n",
       "      <td>0</td>\n",
       "      <td>0</td>\n",
       "      <td>30.1</td>\n",
       "      <td>0.349</td>\n",
       "      <td>47</td>\n",
       "      <td>1</td>\n",
       "    </tr>\n",
       "    <tr>\n",
       "      <th>767</th>\n",
       "      <td>1</td>\n",
       "      <td>93</td>\n",
       "      <td>70</td>\n",
       "      <td>31</td>\n",
       "      <td>0</td>\n",
       "      <td>30.4</td>\n",
       "      <td>0.315</td>\n",
       "      <td>23</td>\n",
       "      <td>0</td>\n",
       "    </tr>\n",
       "  </tbody>\n",
       "</table>\n",
       "<p>768 rows × 9 columns</p>\n",
       "</div>"
      ],
      "text/plain": [
       "     Pregnancies  Glucose  BloodPressure  SkinThickness  Insulin   BMI  \\\n",
       "0              6      148             72             35        0  33.6   \n",
       "1              1       85             66             29        0  26.6   \n",
       "2              8      183             64              0        0  23.3   \n",
       "3              1       89             66             23       94  28.1   \n",
       "4              0      137             40             35      168  43.1   \n",
       "..           ...      ...            ...            ...      ...   ...   \n",
       "763           10      101             76             48      180  32.9   \n",
       "764            2      122             70             27        0  36.8   \n",
       "765            5      121             72             23      112  26.2   \n",
       "766            1      126             60              0        0  30.1   \n",
       "767            1       93             70             31        0  30.4   \n",
       "\n",
       "     DiabetesPedigreeFunction  Age  Outcome  \n",
       "0                       0.627   50        1  \n",
       "1                       0.351   31        0  \n",
       "2                       0.672   32        1  \n",
       "3                       0.167   21        0  \n",
       "4                       2.288   33        1  \n",
       "..                        ...  ...      ...  \n",
       "763                     0.171   63        0  \n",
       "764                     0.340   27        0  \n",
       "765                     0.245   30        0  \n",
       "766                     0.349   47        1  \n",
       "767                     0.315   23        0  \n",
       "\n",
       "[768 rows x 9 columns]"
      ]
     },
     "execution_count": 3,
     "metadata": {},
     "output_type": "execute_result"
    }
   ],
   "source": [
    "data"
   ]
  },
  {
   "cell_type": "code",
   "execution_count": 4,
   "id": "a52871a4-1af0-47cc-9b9e-c4aee78d490b",
   "metadata": {},
   "outputs": [
    {
     "data": {
      "text/plain": [
       "Index(['Pregnancies', 'Glucose', 'BloodPressure', 'SkinThickness', 'Insulin',\n",
       "       'BMI', 'DiabetesPedigreeFunction', 'Age', 'Outcome'],\n",
       "      dtype='object')"
      ]
     },
     "execution_count": 4,
     "metadata": {},
     "output_type": "execute_result"
    }
   ],
   "source": [
    "data.columns"
   ]
  },
  {
   "cell_type": "code",
   "execution_count": 5,
   "id": "863e7f46-4bc3-4a80-9bf2-46d2f1842a04",
   "metadata": {},
   "outputs": [
    {
     "data": {
      "image/png": "[encoded data removed]",
      "text/plain": [
       "<Figure size 800x600 with 1 Axes>"
      ]
     },
     "metadata": {},
     "output_type": "display_data"
    },
    {
     "data": {
      "image/png": "[encoded data removed]",
      "text/plain": [
       "<Figure size 800x600 with 1 Axes>"
      ]
     },
     "metadata": {},
     "output_type": "display_data"
    }
   ],
   "source": [
    "# Histogram 예시\n",
    "plt.figure(figsize=(8, 6))\n",
    "plt.hist(data[\"BMI\"], bins=30, color='skyblue', edgecolor='black')\n",
    "plt.xlabel(\"BMI\")\n",
    "plt.ylabel(\"Frequency\")\n",
    "plt.title(\"Distribution of BMI\")\n",
    "plt.show()\n",
    "\n",
    "# KDE plot 예시 (Seaborn 이용)\n",
    "import seaborn as sns\n",
    "plt.figure(figsize=(8, 6))\n",
    "sns.kdeplot(data[\"BMI\"], fill=True, color='skyblue')\n",
    "plt.xlabel(\"BMI\")\n",
    "plt.ylabel(\"Density\")\n",
    "plt.title(\"Density Plot of BMI\")\n",
    "plt.show()"
   ]
  },
  {
   "cell_type": "code",
   "execution_count": 6,
   "id": "b45418db-cbdd-43dd-9561-0ec2a685870e",
   "metadata": {},
   "outputs": [],
   "source": [
    "# 데이터와 타겟 분리\n",
    "# 회귀 문제에서는 Outcome은 분류용이므로 타겟에서 제외하고,\n",
    "# BMI를 타겟으로 사용합니다.\n",
    "# 입력 특징은 BMI와 Outcome을 제외한 나머지 컬럼들입니다.\n",
    "X = data.drop(['BMI', 'Outcome'], axis=1).values  # 예: Pregnancies, Glucose, BloodPressure, SkinThickness, Insulin, DiabetesPedigreeFunction, Age\n",
    "y = data['BMI'].values  # 타겟: BMI"
   ]
  },
  {
   "cell_type": "code",
   "execution_count": 7,
   "id": "aef9208b-b8ee-4501-881c-83ab879c765f",
   "metadata": {},
   "outputs": [],
   "source": [
    "# Standardize the data\n",
    "scaler = StandardScaler()\n",
    "X = scaler.fit_transform(X)\n",
    "\n",
    "\n",
    "# 학습/테스트 셋 분할\n",
    "X_train, X_test, y_train, y_test = train_test_split(X, y, test_size=0.2, random_state=0)"
   ]
  },
  {
   "cell_type": "code",
   "execution_count": 8,
   "id": "23bdc01c-d0ed-48bc-b539-c5d7e1733027",
   "metadata": {},
   "outputs": [
    {
     "name": "stdout",
     "output_type": "stream",
     "text": [
      "Train shapes: (614, 7) (614,)\n"
     ]
    }
   ],
   "source": [
    "print(\"Train shapes:\", X_train.shape, y_train.shape)"
   ]
  },
  {
   "cell_type": "code",
   "execution_count": 9,
   "id": "76a3c490-d7b3-4e70-8a2e-1d86becb7c5d",
   "metadata": {},
   "outputs": [
    {
     "name": "stdout",
     "output_type": "stream",
     "text": [
      "Test shapes: (154, 7) (154,)\n"
     ]
    }
   ],
   "source": [
    "print(\"Test shapes:\", X_test.shape, y_test.shape)"
   ]
  },
  {
   "cell_type": "code",
   "execution_count": 10,
   "id": "f3062621-9d5b-4bb7-a14a-ea1c4c57da88",
   "metadata": {},
   "outputs": [
    {
     "data": {
      "text/plain": [
       "((614, 7), (154, 7), (614,), (154,))"
      ]
     },
     "execution_count": 10,
     "metadata": {},
     "output_type": "execute_result"
    }
   ],
   "source": [
    "X_train.shape, X_test.shape, y_train.shape, y_test.shape, "
   ]
  },
  {
   "cell_type": "code",
   "execution_count": 11,
   "id": "1126477e-7483-41b1-8b52-82bbf6074428",
   "metadata": {},
   "outputs": [],
   "source": [
    "# PyTorch 텐서 변환 및 CNN 입력 형태로 재구성\n",
    "\n",
    "# 현재 X_train의 shape는 (n_samples, n_features) 예: (?, 7)\n",
    "# CNN을 적용하기 위해 각 샘플을 1채널의 1D 시퀀스로 재구성: (n_samples, channels=1, sequence_length=n_features)\n",
    "X_train = torch.tensor(X_train, dtype=torch.float32).unsqueeze(1)  # shape: (N, 1, 7)\n",
    "y_train = torch.tensor(y_train, dtype=torch.float32).unsqueeze(1)  # shape: (N, 1)\n",
    "X_test = torch.tensor(X_test, dtype=torch.float32).unsqueeze(1)\n",
    "y_test = torch.tensor(y_test, dtype=torch.float32).unsqueeze(1)"
   ]
  },
  {
   "cell_type": "code",
   "execution_count": 12,
   "id": "9fbcc511-40d6-4d92-9a85-280ef5b6c7b3",
   "metadata": {},
   "outputs": [],
   "source": [
    "# DataLoader 생\n",
    "train_dataset = TensorDataset(X_train, y_train)\n",
    "train_dataloader = DataLoader(train_dataset, batch_size=32, shuffle=True)\n",
    "\n",
    "test_dataset = TensorDataset(X_test, y_test)\n",
    "test_dataloader = DataLoader(test_dataset, batch_size=32, shuffle=False)"
   ]
  },
  {
   "cell_type": "code",
   "execution_count": 13,
   "id": "d59e8efd-dc8e-4aca-b414-aedeb7d1d6f3",
   "metadata": {},
   "outputs": [
    {
     "data": {
      "text/plain": [
       "(torch.Size([614, 1, 7]),\n",
       " torch.Size([154, 1, 7]),\n",
       " torch.Size([614, 1]),\n",
       " torch.Size([154, 1]))"
      ]
     },
     "execution_count": 13,
     "metadata": {},
     "output_type": "execute_result"
    }
   ],
   "source": [
    "X_train.shape, X_test.shape, y_train.shape, y_test.shape"
   ]
  },
  {
   "cell_type": "markdown",
   "id": "ce5a116c-660c-4b44-ad32-9171dcf9a5f2",
   "metadata": {},
   "source": [
    "## **모델 정의**"
   ]
  },
  {
   "cell_type": "code",
   "execution_count": 14,
   "id": "5175ce16-1c6c-4a8b-b2e7-d3fe6daae81d",
   "metadata": {},
   "outputs": [
    {
     "name": "stdout",
     "output_type": "stream",
     "text": [
      "DiabetesCNNRegression(\n",
      "  (conv1): Conv1d(1, 16, kernel_size=(3,), stride=(1,), padding=(1,))\n",
      "  (conv2): Conv1d(16, 32, kernel_size=(3,), stride=(1,), padding=(1,))\n",
      "  (fc1): Linear(in_features=224, out_features=64, bias=True)\n",
      "  (fc2): Linear(in_features=64, out_features=1, bias=True)\n",
      "  (relu): ReLU()\n",
      ")\n"
     ]
    }
   ],
   "source": [
    "# CNN 모델 정의 (회귀용)\n",
    "class DiabetesCNNRegression(nn.Module):\n",
    "    def __init__(self):\n",
    "        super(DiabetesCNNRegression, self).__init__()\n",
    "        # 입력: (batch, channels=1, sequence_length=number_of_features) → 여기서 n_features=7\n",
    "        self.conv1 = nn.Conv1d(in_channels=1, out_channels=16, kernel_size=3, padding=1)\n",
    "        self.conv2 = nn.Conv1d(in_channels=16, out_channels=32, kernel_size=3, padding=1)\n",
    "        # 컨볼루션 층에서 stride=1, padding=1이면 시퀀스 길이는 그대로 유지됨 → (batch, 32, 7)\n",
    "        self.fc1 = nn.Linear(32 * 7, 64)\n",
    "        self.fc2 = nn.Linear(64, 1)  # 회귀 문제이므로 출력 1개\n",
    "        self.relu = nn.ReLU()\n",
    "        \n",
    "    def forward(self, x):\n",
    "        x = self.relu(self.conv1(x))   # (batch, 16, 7)\n",
    "        x = self.relu(self.conv2(x))   # (batch, 32, 7)\n",
    "        x = x.view(x.size(0), -1)        # Flatten → (batch, 32*7)\n",
    "        x = self.relu(self.fc1(x))       # (batch, 64)\n",
    "        x = self.fc2(x)                  # (batch, 1)\n",
    "        return x\n",
    "\n",
    "model = DiabetesCNNRegression()\n",
    "print(model)"
   ]
  },
  {
   "cell_type": "markdown",
   "id": "dffa87ca-98d4-4a77-9b03-01be5d25b03c",
   "metadata": {},
   "source": [
    "## **손실 함수 및 최적화 기법 정의**"
   ]
  },
  {
   "cell_type": "code",
   "execution_count": 15,
   "id": "3e946353-a2af-4b53-a5fb-bb350c99cf11",
   "metadata": {},
   "outputs": [],
   "source": [
    "# 손실함수 및 최적화기 설정 (회귀용: MSELoss)\n",
    "criterion = nn.MSELoss()\n",
    "optimizer = optim.Adam(model.parameters(), lr=0.001)"
   ]
  },
  {
   "cell_type": "markdown",
   "id": "acb52a22-9c9a-4bc4-b7a9-a6e434ec4568",
   "metadata": {},
   "source": [
    "## **모델 학습**"
   ]
  },
  {
   "cell_type": "code",
   "execution_count": 16,
   "id": "6b1c23f6-49a1-47e9-a234-d373c36e6155",
   "metadata": {},
   "outputs": [
    {
     "name": "stdout",
     "output_type": "stream",
     "text": [
      "Epoch 1/50, Loss: 1063.5905\n",
      "Epoch 2/50, Loss: 773.2091\n",
      "Epoch 3/50, Loss: 210.1219\n",
      "Epoch 4/50, Loss: 124.7907\n",
      "Epoch 5/50, Loss: 98.4610\n",
      "Epoch 6/50, Loss: 84.6436\n",
      "Epoch 7/50, Loss: 73.6058\n",
      "Epoch 8/50, Loss: 65.7943\n",
      "Epoch 9/50, Loss: 59.6193\n",
      "Epoch 10/50, Loss: 55.8672\n",
      "Epoch 11/50, Loss: 53.6226\n",
      "Epoch 12/50, Loss: 51.3927\n",
      "Epoch 13/50, Loss: 49.7268\n",
      "Epoch 14/50, Loss: 48.9479\n",
      "Epoch 15/50, Loss: 48.2822\n",
      "Epoch 16/50, Loss: 46.9573\n",
      "Epoch 17/50, Loss: 46.7011\n",
      "Epoch 18/50, Loss: 46.3715\n",
      "Epoch 19/50, Loss: 45.4969\n",
      "Epoch 20/50, Loss: 45.1457\n",
      "Epoch 21/50, Loss: 45.1131\n",
      "Epoch 22/50, Loss: 44.5003\n",
      "Epoch 23/50, Loss: 44.0475\n",
      "Epoch 24/50, Loss: 44.7566\n",
      "Epoch 25/50, Loss: 44.2400\n",
      "Epoch 26/50, Loss: 43.6983\n",
      "Epoch 27/50, Loss: 43.1132\n",
      "Epoch 28/50, Loss: 43.0066\n",
      "Epoch 29/50, Loss: 42.8269\n",
      "Epoch 30/50, Loss: 42.4899\n",
      "Epoch 31/50, Loss: 42.0912\n",
      "Epoch 32/50, Loss: 42.8662\n",
      "Epoch 33/50, Loss: 42.0818\n",
      "Epoch 34/50, Loss: 42.9856\n",
      "Epoch 35/50, Loss: 42.0832\n",
      "Epoch 36/50, Loss: 41.1182\n",
      "Epoch 37/50, Loss: 40.6256\n",
      "Epoch 38/50, Loss: 41.0577\n",
      "Epoch 39/50, Loss: 40.2825\n",
      "Epoch 40/50, Loss: 40.2694\n",
      "Epoch 41/50, Loss: 42.7092\n",
      "Epoch 42/50, Loss: 39.8949\n",
      "Epoch 43/50, Loss: 39.6286\n",
      "Epoch 44/50, Loss: 40.0409\n",
      "Epoch 45/50, Loss: 40.4512\n",
      "Epoch 46/50, Loss: 40.5947\n",
      "Epoch 47/50, Loss: 39.5970\n",
      "Epoch 48/50, Loss: 38.9030\n",
      "Epoch 49/50, Loss: 38.8649\n",
      "Epoch 50/50, Loss: 38.9118\n",
      "Training complete.\n"
     ]
    }
   ],
   "source": [
    "# 학습 변수 초기화\n",
    "num_epochs = 50\n",
    "train_losses = []\n",
    "\n",
    "for epoch in range(num_epochs):\n",
    "    model.train()\n",
    "    running_loss = 0.0\n",
    "    for inputs, targets in train_dataloader:\n",
    "        optimizer.zero_grad()\n",
    "        outputs = model(inputs)\n",
    "        loss = criterion(outputs, targets)\n",
    "        loss.backward()\n",
    "        optimizer.step()\n",
    "        running_loss += loss.item() * inputs.size(0)\n",
    "    epoch_loss = running_loss / len(train_dataset)\n",
    "    train_losses.append(epoch_loss)\n",
    "    print(f\"Epoch {epoch+1}/{num_epochs}, Loss: {epoch_loss:.4f}\")\n",
    "    \n",
    "print(\"Training complete.\")"
   ]
  },
  {
   "cell_type": "markdown",
   "id": "acdb0ff1-f44a-4c7f-a88b-7a641018e411",
   "metadata": {},
   "source": [
    "## **모델 평가**"
   ]
  },
  {
   "cell_type": "code",
   "execution_count": 17,
   "id": "d6922ef6-ffc0-434b-bdb4-25d8b0933c4a",
   "metadata": {},
   "outputs": [
    {
     "name": "stdout",
     "output_type": "stream",
     "text": [
      "Test MSE: 46.3098\n",
      "Test R^2 Score: 0.2198\n"
     ]
    }
   ],
   "source": [
    "# Evaluation\n",
    "model.eval()\n",
    "all_preds = []\n",
    "all_targets = []\n",
    "with torch.no_grad():\n",
    "    for inputs, targets in test_dataloader:\n",
    "        outputs = model(inputs)\n",
    "        all_preds.extend(outputs.cpu().numpy())\n",
    "        all_targets.extend(targets.cpu().numpy())\n",
    "\n",
    "all_preds = np.array(all_preds).flatten()\n",
    "all_targets = np.array(all_targets).flatten()\n",
    "\n",
    "mse = mean_squared_error(all_targets, all_preds)\n",
    "r2 = r2_score(all_targets, all_preds)\n",
    "print(f\"Test MSE: {mse:.4f}\")\n",
    "print(f\"Test R^2 Score: {r2:.4f}\")"
   ]
  },
  {
   "cell_type": "code",
   "execution_count": 18,
   "id": "9070b315-82b9-44ab-bdfa-33bcf32fee46",
   "metadata": {},
   "outputs": [
    {
     "data": {
      "image/png": "[encoded data removed]",
      "text/plain": [
       "<Figure size 800x500 with 1 Axes>"
      ]
     },
     "metadata": {},
     "output_type": "display_data"
    }
   ],
   "source": [
    "# Plot the loss and accuracy\n",
    "plt.figure(figsize=(8, 5))\n",
    "\n",
    "# Plot loss\n",
    "plt.plot(train_losses, label='Training Loss')\n",
    "plt.xlabel('Epoch')\n",
    "plt.ylabel('MSE Loss')\n",
    "plt.title('Training Loss Over Epochs')\n",
    "plt.legend()\n",
    "plt.show()"
   ]
  }
 ],
 "metadata": {
  "kernelspec": {
   "display_name": "Python 3 (ipykernel)",
   "language": "python",
   "name": "python3"
  },
  "language_info": {
   "codemirror_mode": {
    "name": "ipython",
    "version": 3
   },
   "file_extension": ".py",
   "mimetype": "text/x-python",
   "name": "python",
   "nbconvert_exporter": "python",
   "pygments_lexer": "ipython3",
   "version": "3.9.16"
  }
 },
 "nbformat": 4,
 "nbformat_minor": 5
}
