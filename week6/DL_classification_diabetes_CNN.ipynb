{
 "cells": [
  {
   "cell_type": "code",
   "execution_count": 1,
   "id": "e75abc83-4000-4800-a5d9-1740d63d9a60",
   "metadata": {},
   "outputs": [],
   "source": [
    "# pip install torch torchvision torchaudio --index-url https://download.pytorch.org/whl/cpu\n",
    "# pip install torchsummary"
   ]
  },
  {
   "cell_type": "code",
   "execution_count": 2,
   "id": "612c3b40-d028-4709-932d-88ac421feb10",
   "metadata": {},
   "outputs": [],
   "source": [
    "import pandas as pd\n",
    "import numpy as np\n",
    "import torch\n",
    "import torch.nn as nn\n",
    "import torch.optim as optim\n",
    "from torch.utils.data import Dataset, DataLoader, TensorDataset\n",
    "from sklearn.metrics import precision_score, recall_score, f1_score, roc_auc_score, confusion_matrix, ConfusionMatrixDisplay\n",
    "\n",
    "import matplotlib.pyplot as plt\n",
    "from torchsummary import summary\n",
    "\n",
    "from sklearn.preprocessing import StandardScaler\n",
    "from sklearn.model_selection import train_test_split"
   ]
  },
  {
   "cell_type": "code",
   "execution_count": 3,
   "id": "3c9999c9-da12-4bce-8b05-58b72a42bf0f",
   "metadata": {},
   "outputs": [],
   "source": [
    "# 데이터셋 인스턴스 생성\n",
    "data = pd.read_csv('https://raw.githubusercontent.com/Kim-TaeWook/AI-class/refs/heads/main/week6/diabetes.csv')  # CSV 파일 경로"
   ]
  },
  {
   "cell_type": "code",
   "execution_count": 4,
   "id": "92c24c7d-6d00-4b30-b929-2f345654921b",
   "metadata": {},
   "outputs": [
    {
     "data": {
      "text/html": [
       "<div>\n",
       "<style scoped>\n",
       "    .dataframe tbody tr th:only-of-type {\n",
       "        vertical-align: middle;\n",
       "    }\n",
       "\n",
       "    .dataframe tbody tr th {\n",
       "        vertical-align: top;\n",
       "    }\n",
       "\n",
       "    .dataframe thead th {\n",
       "        text-align: right;\n",
       "    }\n",
       "</style>\n",
       "<table border=\"1\" class=\"dataframe\">\n",
       "  <thead>\n",
       "    <tr style=\"text-align: right;\">\n",
       "      <th></th>\n",
       "      <th>Pregnancies</th>\n",
       "      <th>Glucose</th>\n",
       "      <th>BloodPressure</th>\n",
       "      <th>SkinThickness</th>\n",
       "      <th>Insulin</th>\n",
       "      <th>BMI</th>\n",
       "      <th>DiabetesPedigreeFunction</th>\n",
       "      <th>Age</th>\n",
       "      <th>Outcome</th>\n",
       "    </tr>\n",
       "  </thead>\n",
       "  <tbody>\n",
       "    <tr>\n",
       "      <th>0</th>\n",
       "      <td>6</td>\n",
       "      <td>148</td>\n",
       "      <td>72</td>\n",
       "      <td>35</td>\n",
       "      <td>0</td>\n",
       "      <td>33.6</td>\n",
       "      <td>0.627</td>\n",
       "      <td>50</td>\n",
       "      <td>1</td>\n",
       "    </tr>\n",
       "    <tr>\n",
       "      <th>1</th>\n",
       "      <td>1</td>\n",
       "      <td>85</td>\n",
       "      <td>66</td>\n",
       "      <td>29</td>\n",
       "      <td>0</td>\n",
       "      <td>26.6</td>\n",
       "      <td>0.351</td>\n",
       "      <td>31</td>\n",
       "      <td>0</td>\n",
       "    </tr>\n",
       "    <tr>\n",
       "      <th>2</th>\n",
       "      <td>8</td>\n",
       "      <td>183</td>\n",
       "      <td>64</td>\n",
       "      <td>0</td>\n",
       "      <td>0</td>\n",
       "      <td>23.3</td>\n",
       "      <td>0.672</td>\n",
       "      <td>32</td>\n",
       "      <td>1</td>\n",
       "    </tr>\n",
       "    <tr>\n",
       "      <th>3</th>\n",
       "      <td>1</td>\n",
       "      <td>89</td>\n",
       "      <td>66</td>\n",
       "      <td>23</td>\n",
       "      <td>94</td>\n",
       "      <td>28.1</td>\n",
       "      <td>0.167</td>\n",
       "      <td>21</td>\n",
       "      <td>0</td>\n",
       "    </tr>\n",
       "    <tr>\n",
       "      <th>4</th>\n",
       "      <td>0</td>\n",
       "      <td>137</td>\n",
       "      <td>40</td>\n",
       "      <td>35</td>\n",
       "      <td>168</td>\n",
       "      <td>43.1</td>\n",
       "      <td>2.288</td>\n",
       "      <td>33</td>\n",
       "      <td>1</td>\n",
       "    </tr>\n",
       "    <tr>\n",
       "      <th>...</th>\n",
       "      <td>...</td>\n",
       "      <td>...</td>\n",
       "      <td>...</td>\n",
       "      <td>...</td>\n",
       "      <td>...</td>\n",
       "      <td>...</td>\n",
       "      <td>...</td>\n",
       "      <td>...</td>\n",
       "      <td>...</td>\n",
       "    </tr>\n",
       "    <tr>\n",
       "      <th>763</th>\n",
       "      <td>10</td>\n",
       "      <td>101</td>\n",
       "      <td>76</td>\n",
       "      <td>48</td>\n",
       "      <td>180</td>\n",
       "      <td>32.9</td>\n",
       "      <td>0.171</td>\n",
       "      <td>63</td>\n",
       "      <td>0</td>\n",
       "    </tr>\n",
       "    <tr>\n",
       "      <th>764</th>\n",
       "      <td>2</td>\n",
       "      <td>122</td>\n",
       "      <td>70</td>\n",
       "      <td>27</td>\n",
       "      <td>0</td>\n",
       "      <td>36.8</td>\n",
       "      <td>0.340</td>\n",
       "      <td>27</td>\n",
       "      <td>0</td>\n",
       "    </tr>\n",
       "    <tr>\n",
       "      <th>765</th>\n",
       "      <td>5</td>\n",
       "      <td>121</td>\n",
       "      <td>72</td>\n",
       "      <td>23</td>\n",
       "      <td>112</td>\n",
       "      <td>26.2</td>\n",
       "      <td>0.245</td>\n",
       "      <td>30</td>\n",
       "      <td>0</td>\n",
       "    </tr>\n",
       "    <tr>\n",
       "      <th>766</th>\n",
       "      <td>1</td>\n",
       "      <td>126</td>\n",
       "      <td>60</td>\n",
       "      <td>0</td>\n",
       "      <td>0</td>\n",
       "      <td>30.1</td>\n",
       "      <td>0.349</td>\n",
       "      <td>47</td>\n",
       "      <td>1</td>\n",
       "    </tr>\n",
       "    <tr>\n",
       "      <th>767</th>\n",
       "      <td>1</td>\n",
       "      <td>93</td>\n",
       "      <td>70</td>\n",
       "      <td>31</td>\n",
       "      <td>0</td>\n",
       "      <td>30.4</td>\n",
       "      <td>0.315</td>\n",
       "      <td>23</td>\n",
       "      <td>0</td>\n",
       "    </tr>\n",
       "  </tbody>\n",
       "</table>\n",
       "<p>768 rows × 9 columns</p>\n",
       "</div>"
      ],
      "text/plain": [
       "     Pregnancies  Glucose  BloodPressure  SkinThickness  Insulin   BMI  \\\n",
       "0              6      148             72             35        0  33.6   \n",
       "1              1       85             66             29        0  26.6   \n",
       "2              8      183             64              0        0  23.3   \n",
       "3              1       89             66             23       94  28.1   \n",
       "4              0      137             40             35      168  43.1   \n",
       "..           ...      ...            ...            ...      ...   ...   \n",
       "763           10      101             76             48      180  32.9   \n",
       "764            2      122             70             27        0  36.8   \n",
       "765            5      121             72             23      112  26.2   \n",
       "766            1      126             60              0        0  30.1   \n",
       "767            1       93             70             31        0  30.4   \n",
       "\n",
       "     DiabetesPedigreeFunction  Age  Outcome  \n",
       "0                       0.627   50        1  \n",
       "1                       0.351   31        0  \n",
       "2                       0.672   32        1  \n",
       "3                       0.167   21        0  \n",
       "4                       2.288   33        1  \n",
       "..                        ...  ...      ...  \n",
       "763                     0.171   63        0  \n",
       "764                     0.340   27        0  \n",
       "765                     0.245   30        0  \n",
       "766                     0.349   47        1  \n",
       "767                     0.315   23        0  \n",
       "\n",
       "[768 rows x 9 columns]"
      ]
     },
     "execution_count": 4,
     "metadata": {},
     "output_type": "execute_result"
    }
   ],
   "source": [
    "data"
   ]
  },
  {
   "cell_type": "code",
   "execution_count": 5,
   "id": "863e7f46-4bc3-4a80-9bf2-46d2f1842a04",
   "metadata": {},
   "outputs": [
    {
     "data": {
      "image/png": "[encoded data removed]",
      "text/plain": [
       "<Figure size 800x600 with 1 Axes>"
      ]
     },
     "metadata": {},
     "output_type": "display_data"
    }
   ],
   "source": [
    "fig_size = plt.rcParams[\"figure.figsize\"]\n",
    "fig_size[0] = 8\n",
    "fig_size[1] = 6\n",
    "plt.rcParams[\"figure.figsize\"] = fig_size\n",
    "\n",
    "# Outcome 컬럼으로 접근\n",
    "data[\"Outcome\"].value_counts().plot(\n",
    "    kind='pie',\n",
    "    autopct='%0.05f%%',\n",
    "    colors=['lightblue', 'lightgreen'],\n",
    "    explode=(0.05, 0.05)\n",
    ")\n",
    "\n",
    "plt.title(\"Distribution of Diabetes Outcome\")\n",
    "plt.ylabel(\"\")  # 라벨 없애기\n",
    "plt.show()"
   ]
  },
  {
   "cell_type": "code",
   "execution_count": 6,
   "id": "b45418db-cbdd-43dd-9561-0ec2a685870e",
   "metadata": {},
   "outputs": [],
   "source": [
    "# 데이터와 타겟 분리\n",
    "X = data.drop('Outcome', axis=1).values\n",
    "y = data['Outcome'].values"
   ]
  },
  {
   "cell_type": "code",
   "execution_count": 7,
   "id": "aef9208b-b8ee-4501-881c-83ab879c765f",
   "metadata": {},
   "outputs": [],
   "source": [
    "from sklearn.preprocessing import StandardScaler\n",
    "from sklearn.model_selection import train_test_split\n",
    "\n",
    "# Standardize the data\n",
    "scaler = StandardScaler()\n",
    "X = scaler.fit_transform(X)"
   ]
  },
  {
   "cell_type": "code",
   "execution_count": 8,
   "id": "f3062621-9d5b-4bb7-a14a-ea1c4c57da88",
   "metadata": {},
   "outputs": [
    {
     "name": "stdout",
     "output_type": "stream",
     "text": [
      "data_array.shape: (768, 9)\n"
     ]
    }
   ],
   "source": [
    "# --- 시퀀스 형식으로 변환 위해 데이터와 타겟 합치기 ---\n",
    "# 원래 X는 (n_samples, 8)이고, y는 (n_samples,), \n",
    "# hstack 후 data_array는 (n_samples, 9)\n",
    "data_array = np.hstack((X, y.reshape(-1, 1)))\n",
    "print(\"data_array.shape:\", data_array.shape)"
   ]
  },
  {
   "cell_type": "code",
   "execution_count": 9,
   "id": "d86fe784-7270-4024-9fce-fe1a23c1e15f",
   "metadata": {},
   "outputs": [
    {
     "name": "stdout",
     "output_type": "stream",
     "text": [
      "After sequence split: X_seq.shape: (764, 5, 8) y_seq.shape: (764,)\n"
     ]
    }
   ],
   "source": [
    "# --- Split sequences function: n_steps=5 ---\n",
    "def split_sequences(sequences, n_steps):\n",
    "    X_seq, y_seq = list(), list()\n",
    "    for i in range(len(sequences)):\n",
    "        end_ix = i + n_steps\n",
    "        if end_ix > len(sequences):\n",
    "            break\n",
    "        seq_x = sequences[i:end_ix, :-1]  # 모든 열 중 마지막(타겟 제외)\n",
    "        seq_y = sequences[end_ix-1, -1]     # 마지막 행의 Outcome (타겟)\n",
    "        X_seq.append(seq_x)\n",
    "        y_seq.append(seq_y)\n",
    "    return np.array(X_seq), np.array(y_seq)\n",
    "\n",
    "n_steps = 5\n",
    "X_seq, y_seq = split_sequences(data_array, n_steps)\n",
    "print(\"After sequence split: X_seq.shape:\", X_seq.shape, \"y_seq.shape:\", y_seq.shape)\n",
    "# X_seq.shape will be (n_new_samples, 5, 8) and y_seq.shape will be (n_new_samples,)"
   ]
  },
  {
   "cell_type": "code",
   "execution_count": 10,
   "id": "7d43c701-a202-4249-9aa9-a0d71f3f83de",
   "metadata": {},
   "outputs": [
    {
     "name": "stdout",
     "output_type": "stream",
     "text": [
      "Train: (611, 5, 8) (611,) Test: (153, 5, 8) (153,)\n"
     ]
    }
   ],
   "source": [
    "# --- 학습/테스트 데이터 분할 ---\n",
    "X_train, X_test, y_train, y_test = train_test_split(X_seq, y_seq, test_size=0.2, random_state=0)\n",
    "print(\"Train:\", X_train.shape, y_train.shape, \"Test:\", X_test.shape, y_test.shape)"
   ]
  },
  {
   "cell_type": "code",
   "execution_count": 11,
   "id": "1126477e-7483-41b1-8b52-82bbf6074428",
   "metadata": {},
   "outputs": [],
   "source": [
    "# Convert to PyTorch tensors\n",
    "X_train = torch.tensor(X_train, dtype=torch.float32)\n",
    "y_train = torch.tensor(y_train, dtype=torch.int64)\n",
    "X_test = torch.tensor(X_test, dtype=torch.float32)\n",
    "y_test = torch.tensor(y_test, dtype=torch.int64)"
   ]
  },
  {
   "cell_type": "code",
   "execution_count": 12,
   "id": "9fbcc511-40d6-4d92-9a85-280ef5b6c7b3",
   "metadata": {},
   "outputs": [],
   "source": [
    "# Create DataLoader\n",
    "train_dataset = TensorDataset(X_train, y_train)\n",
    "train_dataloader = DataLoader(train_dataset, batch_size=32, shuffle=True)\n",
    "\n",
    "test_dataset = TensorDataset(X_test, y_test)\n",
    "test_dataloader = DataLoader(test_dataset, batch_size=32, shuffle=False)"
   ]
  },
  {
   "cell_type": "code",
   "execution_count": 13,
   "id": "d59e8efd-dc8e-4aca-b414-aedeb7d1d6f3",
   "metadata": {},
   "outputs": [
    {
     "data": {
      "text/plain": [
       "(torch.Size([611, 5, 8]),\n",
       " torch.Size([153, 5, 8]),\n",
       " torch.Size([611]),\n",
       " torch.Size([153]))"
      ]
     },
     "execution_count": 13,
     "metadata": {},
     "output_type": "execute_result"
    }
   ],
   "source": [
    "X_train.shape, X_test.shape, y_train.shape, y_test.shape"
   ]
  },
  {
   "cell_type": "markdown",
   "id": "ce5a116c-660c-4b44-ad32-9171dcf9a5f2",
   "metadata": {},
   "source": [
    "## **모델 정의**"
   ]
  },
  {
   "cell_type": "code",
   "execution_count": 14,
   "id": "5175ce16-1c6c-4a8b-b2e7-d3fe6daae81d",
   "metadata": {},
   "outputs": [
    {
     "name": "stdout",
     "output_type": "stream",
     "text": [
      "----------------------------------------------------------------\n",
      "        Layer (type)               Output Shape         Param #\n",
      "================================================================\n",
      "            Conv1d-1                [-1, 16, 5]             400\n",
      "            Conv1d-2                [-1, 32, 5]           1,568\n",
      "            Linear-3                   [-1, 64]          10,304\n",
      "            Linear-4                    [-1, 1]              65\n",
      "================================================================\n",
      "Total params: 12,337\n",
      "Trainable params: 12,337\n",
      "Non-trainable params: 0\n",
      "----------------------------------------------------------------\n",
      "Input size (MB): 0.00\n",
      "Forward/backward pass size (MB): 0.00\n",
      "Params size (MB): 0.05\n",
      "Estimated Total Size (MB): 0.05\n",
      "----------------------------------------------------------------\n"
     ]
    }
   ],
   "source": [
    "# 모델 정의\n",
    "class DiabetesCNN(nn.Module):\n",
    "    def __init__(self):\n",
    "        super(DiabetesCNN, self).__init__()\n",
    "        # 각 시퀀스의 길이 n_steps=5, 피처 수 = 8 → 입력 shape (batch, 8, 5)\n",
    "        self.conv1 = nn.Conv1d(in_channels=8, out_channels=16, kernel_size=3, padding=1)\n",
    "        self.conv2 = nn.Conv1d(in_channels=16, out_channels=32, kernel_size=3, padding=1)\n",
    "        # Conv1d 계층: 시퀀스 길이 5 유지\n",
    "        self.fc1 = nn.Linear(32 * 5, 64)\n",
    "        # 출력 노드를 1로 설정 (BCEWithLogitsLoss를 사용하기 위함)\n",
    "        self.fc2 = nn.Linear(64, 1)\n",
    "    \n",
    "    def forward(self, x):\n",
    "        x = torch.relu(self.conv1(x))\n",
    "        x = torch.relu(self.conv2(x))\n",
    "        x = x.view(x.size(0), -1)  # Flatten\n",
    "        x = torch.relu(self.fc1(x))\n",
    "        x = self.fc2(x)  # 출력: 단일 로짓 값\n",
    "        return x\n",
    "\n",
    "model = DiabetesCNN()\n",
    "# summary expects input shape: (channels, sequence_length)\n",
    "summary(model, input_size=(8, 5))"
   ]
  },
  {
   "cell_type": "markdown",
   "id": "dffa87ca-98d4-4a77-9b03-01be5d25b03c",
   "metadata": {},
   "source": [
    "## **손실 함수 및 최적화 기법 정의**"
   ]
  },
  {
   "cell_type": "code",
   "execution_count": 15,
   "id": "3e946353-a2af-4b53-a5fb-bb350c99cf11",
   "metadata": {},
   "outputs": [],
   "source": [
    "criterion = nn.BCEWithLogitsLoss()\n",
    "optimizer = optim.Adam(model.parameters(), lr=0.001)"
   ]
  },
  {
   "cell_type": "markdown",
   "id": "acb52a22-9c9a-4bc4-b7a9-a6e434ec4568",
   "metadata": {},
   "source": [
    "## **모델 학습**"
   ]
  },
  {
   "cell_type": "code",
   "execution_count": 16,
   "id": "6b1c23f6-49a1-47e9-a234-d373c36e6155",
   "metadata": {},
   "outputs": [
    {
     "name": "stdout",
     "output_type": "stream",
     "text": [
      "Epoch 1/20, Loss: 0.6704, Accuracy: 62.75%\n",
      "Epoch 2/20, Loss: 0.6399, Accuracy: 62.75%\n",
      "Epoch 3/20, Loss: 0.6136, Accuracy: 62.75%\n",
      "Epoch 4/20, Loss: 0.5710, Accuracy: 71.24%\n",
      "Epoch 5/20, Loss: 0.5133, Accuracy: 74.51%\n",
      "Epoch 6/20, Loss: 0.4718, Accuracy: 73.86%\n",
      "Epoch 7/20, Loss: 0.4441, Accuracy: 74.51%\n",
      "Epoch 8/20, Loss: 0.4192, Accuracy: 73.20%\n",
      "Epoch 9/20, Loss: 0.4039, Accuracy: 75.16%\n",
      "Epoch 10/20, Loss: 0.3960, Accuracy: 77.12%\n",
      "Epoch 11/20, Loss: 0.3682, Accuracy: 73.86%\n",
      "Epoch 12/20, Loss: 0.3498, Accuracy: 73.86%\n",
      "Epoch 13/20, Loss: 0.3402, Accuracy: 75.82%\n",
      "Epoch 14/20, Loss: 0.3217, Accuracy: 73.20%\n",
      "Epoch 15/20, Loss: 0.3019, Accuracy: 72.55%\n",
      "Epoch 16/20, Loss: 0.2896, Accuracy: 70.59%\n",
      "Epoch 17/20, Loss: 0.2732, Accuracy: 69.93%\n",
      "Epoch 18/20, Loss: 0.2641, Accuracy: 71.24%\n",
      "Epoch 19/20, Loss: 0.2541, Accuracy: 71.24%\n",
      "Epoch 20/20, Loss: 0.2352, Accuracy: 72.55%\n",
      "Training complete.\n"
     ]
    }
   ],
   "source": [
    "# 학습 변수 초기화\n",
    "train_losses = []\n",
    "test_accuracies = []\n",
    "num_epochs = 20\n",
    "\n",
    "for epoch in range(num_epochs):\n",
    "    model.train()\n",
    "    running_loss = 0.0\n",
    "    for inputs, labels in train_dataloader:\n",
    "        # 현재 inputs shape: (batch, n_steps, features) i.e. (batch, 5, 8)\n",
    "        # CNN 입력으로 사용하기 위해 (batch, channels, sequence_length)\n",
    "        inputs = inputs.permute(0, 2, 1)  # → (batch, 8, 5)\n",
    "        \n",
    "        optimizer.zero_grad()\n",
    "        outputs = model(inputs)  # outputs shape: (batch, 1)\n",
    "        # BCEWithLogitsLoss: labels must be of shape (batch, 1) and float type\n",
    "        loss = criterion(outputs, labels.unsqueeze(1).float())\n",
    "        loss.backward()\n",
    "        optimizer.step()\n",
    "        \n",
    "        running_loss += loss.item() * inputs.size(0)\n",
    "    \n",
    "    avg_loss = running_loss / len(train_dataloader.dataset)\n",
    "    train_losses.append(avg_loss)\n",
    "    \n",
    "    # 평가 단계\n",
    "    model.eval()\n",
    "    correct = 0\n",
    "    total = 0\n",
    "    for inputs, labels in test_dataloader:\n",
    "        # 평가 시에도 permute 잊지 않기\n",
    "        inputs = inputs.permute(0, 2, 1)\n",
    "        outputs = model(inputs)  # (batch, 1)\n",
    "        # 예측: sigmoid를 사용하여 0과 1로 분류\n",
    "        preds = (torch.sigmoid(outputs) >= 0.5).int()\n",
    "        total += labels.size(0)\n",
    "        correct += (preds.squeeze(1) == labels).sum().item()\n",
    "    \n",
    "    accuracy = 100 * correct / total\n",
    "    test_accuracies.append(accuracy)\n",
    "    \n",
    "    print(f\"Epoch {epoch+1}/{num_epochs}, Loss: {avg_loss:.4f}, Accuracy: {accuracy:.2f}%\")\n",
    "\n",
    "print(\"Training complete.\")"
   ]
  },
  {
   "cell_type": "markdown",
   "id": "acdb0ff1-f44a-4c7f-a88b-7a641018e411",
   "metadata": {},
   "source": [
    "## **모델 평가**"
   ]
  },
  {
   "cell_type": "code",
   "execution_count": 17,
   "id": "d6922ef6-ffc0-434b-bdb4-25d8b0933c4a",
   "metadata": {},
   "outputs": [
    {
     "name": "stdout",
     "output_type": "stream",
     "text": [
      "Confusion Matrix:\n",
      "[[73 23]\n",
      " [19 38]]\n",
      "F1 Score: 0.73\n",
      "Precision: 0.73\n",
      "Recall: 0.73\n"
     ]
    }
   ],
   "source": [
    "# Evaluation\n",
    "model.eval()\n",
    "all_labels = []\n",
    "all_predictions = []\n",
    "with torch.no_grad():\n",
    "    for inputs, labels in test_dataloader:\n",
    "        inputs = inputs.permute(0, 2, 1)  # (batch, 8, 5)\n",
    "        outputs = model(inputs)\n",
    "        # 예측: sigmoid -> threshold (0.5)\n",
    "        preds = (torch.sigmoid(outputs) >= 0.5).int()\n",
    "        all_labels.extend(labels.cpu().numpy())\n",
    "        all_predictions.extend(preds.cpu().numpy())\n",
    "\n",
    "all_labels = np.array(all_labels)\n",
    "all_predictions = np.array(all_predictions).flatten()\n",
    "\n",
    "conf_matrix = confusion_matrix(all_labels, all_predictions)\n",
    "f1 = f1_score(all_labels, all_predictions, average='weighted')\n",
    "precision = precision_score(all_labels, all_predictions, average='weighted')\n",
    "recall = recall_score(all_labels, all_predictions, average='weighted')\n",
    "\n",
    "print(f'Confusion Matrix:\\n{conf_matrix}')\n",
    "print(f'F1 Score: {f1:.2f}')\n",
    "print(f'Precision: {precision:.2f}')\n",
    "print(f'Recall: {recall:.2f}')"
   ]
  },
  {
   "cell_type": "code",
   "execution_count": 18,
   "id": "9070b315-82b9-44ab-bdfa-33bcf32fee46",
   "metadata": {},
   "outputs": [
    {
     "data": {
      "image/png": "[encoded data removed]",
      "text/plain": [
       "<Figure size 1200x500 with 2 Axes>"
      ]
     },
     "metadata": {},
     "output_type": "display_data"
    }
   ],
   "source": [
    "# Plot the loss and accuracy\n",
    "plt.figure(figsize=(12, 5))\n",
    "\n",
    "# Plot loss\n",
    "plt.subplot(1, 2, 1)\n",
    "plt.plot(train_losses, label='Training Loss')\n",
    "plt.xlabel('Epoch')\n",
    "plt.ylabel('Loss')\n",
    "plt.title('Training Loss Over Epochs')\n",
    "plt.legend()\n",
    "\n",
    "# Plot accuracy\n",
    "plt.subplot(1, 2, 2)\n",
    "plt.plot(test_accuracies, label='Test Accuracy')\n",
    "plt.xlabel('Epoch')\n",
    "plt.ylabel('Accuracy (%)')\n",
    "plt.title('Test Accuracy Over Epochs')\n",
    "plt.legend()\n",
    "\n",
    "plt.show()"
   ]
  }
 ],
 "metadata": {
  "kernelspec": {
   "display_name": "Python 3 (ipykernel)",
   "language": "python",
   "name": "python3"
  },
  "language_info": {
   "codemirror_mode": {
    "name": "ipython",
    "version": 3
   },
   "file_extension": ".py",
   "mimetype": "text/x-python",
   "name": "python",
   "nbconvert_exporter": "python",
   "pygments_lexer": "ipython3",
   "version": "3.9.16"
  }
 },
 "nbformat": 4,
 "nbformat_minor": 5
}
