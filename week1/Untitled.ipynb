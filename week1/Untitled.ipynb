{
 "cells": [
  {
   "cell_type": "code",
   "execution_count": 4,
   "id": "04f15932-cbf6-48b8-94af-5bc7d027230f",
   "metadata": {},
   "outputs": [
    {
     "data": {
      "text/plain": [
       "(   SepalLength  SepalWidth  PetalLength  PetalWidth         Name\n",
       " 0          5.1         3.5          1.4         0.2  Iris-setosa\n",
       " 1          4.9         3.0          1.4         0.2  Iris-setosa\n",
       " 2          4.7         3.2          1.3         0.2  Iris-setosa\n",
       " 3          4.6         3.1          1.5         0.2  Iris-setosa\n",
       " 4          5.0         3.6          1.4         0.2  Iris-setosa,\n",
       " Index(['SepalLength', 'SepalWidth', 'PetalLength', 'PetalWidth', 'Name'], dtype='object'))"
      ]
     },
     "execution_count": 4,
     "metadata": {},
     "output_type": "execute_result"
    }
   ],
   "source": [
    "import pandas as pd\n",
    "\n",
    "# CSV 파일 경로 설정\n",
    "file_path = r\"C:\\Users\\USER\\Desktop\\가천대학교\\3학년 1학기\\3.화_인공지능개론\\week1\\iris.csv\"\n",
    "\n",
    "# CSV 파일 읽기\n",
    "df = pd.read_csv(file_path)\n",
    "\n",
    "# 데이터 확인\n",
    "df.head(), df.columns"
   ]
  },
  {
   "cell_type": "code",
   "execution_count": 6,
   "id": "2b81835f-bad0-4658-a09e-c7fa225d360b",
   "metadata": {},
   "outputs": [
    {
     "name": "stdout",
     "output_type": "stream",
     "text": [
      "📌 결정 트리 정확도: 1.0000\n",
      "📌 랜덤 포레스트 정확도: 1.0000\n",
      "📌 서포트 벡터 머신 정확도: 1.0000\n",
      "📌 로지스틱 회귀 정확도: 1.0000\n"
     ]
    }
   ],
   "source": [
    "from sklearn.model_selection import train_test_split\n",
    "from sklearn.preprocessing import LabelEncoder\n",
    "from sklearn.tree import DecisionTreeClassifier\n",
    "from sklearn.ensemble import RandomForestClassifier\n",
    "from sklearn.svm import SVC\n",
    "from sklearn.linear_model import LogisticRegression\n",
    "from sklearn.metrics import accuracy_score\n",
    "\n",
    "# 데이터 전처리 (타겟 변수 레이블 인코딩)\n",
    "X = df.iloc[:, :-1]  # 마지막 열을 제외한 나머지 (특성 데이터)\n",
    "y = LabelEncoder().fit_transform(df.iloc[:, -1])  # 마지막 열 (타겟 변수)\n",
    "\n",
    "# 데이터 분할 (학습용 80%, 테스트용 20%)\n",
    "X_train, X_test, y_train, y_test = train_test_split(X, y, test_size=0.2, random_state=42)\n",
    "\n",
    "# 1️⃣ 결정 트리 (Decision Tree)\n",
    "dt_model = DecisionTreeClassifier()\n",
    "dt_model.fit(X_train, y_train)\n",
    "dt_pred = dt_model.predict(X_test)\n",
    "dt_acc = accuracy_score(y_test, dt_pred)\n",
    "\n",
    "# 2️⃣ 랜덤 포레스트 (Random Forest)\n",
    "rf_model = RandomForestClassifier()\n",
    "rf_model.fit(X_train, y_train)\n",
    "rf_pred = rf_model.predict(X_test)\n",
    "rf_acc = accuracy_score(y_test, rf_pred)\n",
    "\n",
    "# 3️⃣ 서포트 벡터 머신 (SVM)\n",
    "svm_model = SVC()\n",
    "svm_model.fit(X_train, y_train)\n",
    "svm_pred = svm_model.predict(X_test)\n",
    "svm_acc = accuracy_score(y_test, svm_pred)\n",
    "\n",
    "# 4️⃣ 로지스틱 회귀 (Logistic Regression)\n",
    "lr_model = LogisticRegression(max_iter=200)\n",
    "lr_model.fit(X_train, y_train)\n",
    "lr_pred = lr_model.predict(X_test)\n",
    "lr_acc = accuracy_score(y_test, lr_pred)\n",
    "\n",
    "# 결과 출력\n",
    "print(f\"📌 결정 트리 정확도: {dt_acc:.4f}\")\n",
    "print(f\"📌 랜덤 포레스트 정확도: {rf_acc:.4f}\")\n",
    "print(f\"📌 서포트 벡터 머신 정확도: {svm_acc:.4f}\")\n",
    "print(f\"📌 로지스틱 회귀 정확도: {lr_acc:.4f}\")\n"
   ]
  },
  {
   "cell_type": "code",
   "execution_count": null,
   "id": "35f97da2-9f79-431b-9aec-f472718f7e44",
   "metadata": {},
   "outputs": [],
   "source": []
  }
 ],
 "metadata": {
  "kernelspec": {
   "display_name": "Python 3 (ipykernel)",
   "language": "python",
   "name": "python3"
  },
  "language_info": {
   "codemirror_mode": {
    "name": "ipython",
    "version": 3
   },
   "file_extension": ".py",
   "mimetype": "text/x-python",
   "name": "python",
   "nbconvert_exporter": "python",
   "pygments_lexer": "ipython3",
   "version": "3.9.16"
  }
 },
 "nbformat": 4,
 "nbformat_minor": 5
}
