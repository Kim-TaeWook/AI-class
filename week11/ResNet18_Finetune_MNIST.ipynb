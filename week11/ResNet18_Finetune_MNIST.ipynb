{
 "cells": [
  {
   "cell_type": "code",
   "execution_count": 1,
   "id": "7e480d50-1d62-4f9b-9e26-1ad7cfa5c655",
   "metadata": {},
   "outputs": [],
   "source": [
    "# ✅ 1. 라이브러리 불러오기\n",
    "import numpy as np\n",
    "import matplotlib.pyplot as plt\n",
    "from sklearn import datasets, metrics\n",
    "from sklearn.model_selection import train_test_split\n",
    "from sklearn.preprocessing import OneHotEncoder\n",
    "\n",
    "import torch\n",
    "import torch.nn as nn\n",
    "from torch.utils.data import DataLoader, TensorDataset\n",
    "import torchvision.models as models\n"
   ]
  },
  {
   "cell_type": "code",
   "execution_count": 2,
   "id": "3618d159-4bf1-4510-9f43-bdf05244f5fa",
   "metadata": {},
   "outputs": [],
   "source": [
    "# ✅ 2. 데이터 로드 및 전처리\n",
    "digits = datasets.load_digits()\n",
    "X = digits.images  # (1797, 8, 8)\n",
    "y = digits.target.reshape(-1, 1)  # (1797, 1)\n",
    "\n",
    "# 0~1 정규화\n",
    "X = X / 16.0\n",
    "\n",
    "# PyTorch용 텐서로 변환 (CNN 입력 형태: NCHW)\n",
    "X = X[:, np.newaxis, :, :]  # (N, 1, 8, 8)\n",
    "\n",
    "# 라벨 원핫 인코딩\n",
    "encoder = OneHotEncoder(sparse_output=False)\n",
    "y_encoded = encoder.fit_transform(y)\n",
    "\n",
    "# 훈련/테스트 분할\n",
    "X_train, X_test, y_train, y_test = train_test_split(X, y_encoded, test_size=0.2, random_state=42)\n",
    "\n",
    "# FloatTensor 변환\n",
    "X_train_tensor = torch.FloatTensor(X_train)  # (N, 1, 8, 8)\n",
    "X_test_tensor = torch.FloatTensor(X_test)\n",
    "y_train_tensor = torch.FloatTensor(y_train)\n",
    "y_test_tensor = torch.FloatTensor(y_test)\n",
    "\n",
    "# ✅ ResNet은 (N, 3, H, W) 이미지 입력 필요 → 채널 복제\n",
    "X_train_3c = X_train_tensor.repeat(1, 3, 1, 1)  # (N, 3, 8, 8)\n",
    "X_test_3c = X_test_tensor.repeat(1, 3, 1, 1)\n"
   ]
  },
  {
   "cell_type": "code",
   "execution_count": 3,
   "id": "3d18f4ef-d4e3-4e86-9aa1-87cc2372c6b6",
   "metadata": {},
   "outputs": [],
   "source": [
    "# ✅ 3. DataLoader 구성\n",
    "train_dataset = TensorDataset(X_train_3c, y_train_tensor)\n",
    "train_loader = DataLoader(train_dataset, batch_size=32, shuffle=True)\n"
   ]
  },
  {
   "cell_type": "code",
   "execution_count": 4,
   "id": "2874ba95-3074-4c7c-83e4-7827831ba340",
   "metadata": {},
   "outputs": [],
   "source": [
    "# ✅ 4. 사전 학습된 ResNet18 불러오기 + 출력층 수정\n",
    "resnet = models.resnet18(weights=models.ResNet18_Weights.DEFAULT)\n",
    "resnet.fc = nn.Linear(resnet.fc.in_features, 10)  # 10 클래스 분류용\n"
   ]
  },
  {
   "cell_type": "code",
   "execution_count": 5,
   "id": "f1eb65c3-3331-4a1e-8a13-1b63a5b74fbb",
   "metadata": {},
   "outputs": [],
   "source": [
    "# ✅ 5. 손실 함수 & 옵티마이저\n",
    "criterion = nn.CrossEntropyLoss()\n",
    "optimizer = torch.optim.Adam(resnet.parameters(), lr=0.001)\n"
   ]
  },
  {
   "cell_type": "code",
   "execution_count": 6,
   "id": "076b5185-4ed9-43d2-ab30-572dc0e91fc7",
   "metadata": {},
   "outputs": [
    {
     "name": "stdout",
     "output_type": "stream",
     "text": [
      "Epoch 1/20, Loss: 57.9640\n",
      "Epoch 2/20, Loss: 28.1070\n",
      "Epoch 3/20, Loss: 21.5040\n",
      "Epoch 4/20, Loss: 17.9215\n",
      "Epoch 5/20, Loss: 13.9835\n",
      "Epoch 6/20, Loss: 9.9332\n",
      "Epoch 7/20, Loss: 9.5761\n",
      "Epoch 8/20, Loss: 9.2082\n",
      "Epoch 9/20, Loss: 7.2530\n",
      "Epoch 10/20, Loss: 8.0278\n",
      "Epoch 11/20, Loss: 6.6544\n",
      "Epoch 12/20, Loss: 6.8745\n",
      "Epoch 13/20, Loss: 4.8843\n",
      "Epoch 14/20, Loss: 6.9340\n",
      "Epoch 15/20, Loss: 3.8076\n",
      "Epoch 16/20, Loss: 4.8645\n",
      "Epoch 17/20, Loss: 4.6724\n",
      "Epoch 18/20, Loss: 5.5184\n",
      "Epoch 19/20, Loss: 4.8651\n",
      "Epoch 20/20, Loss: 3.2032\n"
     ]
    }
   ],
   "source": [
    "# ✅ 6. 모델 학습\n",
    "EPOCHS = 20\n",
    "\n",
    "for epoch in range(EPOCHS):\n",
    "    total_loss = 0\n",
    "    for batch_x, batch_y in train_loader:\n",
    "        optimizer.zero_grad()\n",
    "        labels = torch.max(batch_y, 1)[1]\n",
    "        outputs = resnet(batch_x)\n",
    "        loss = criterion(outputs, labels)\n",
    "        loss.backward()\n",
    "        optimizer.step()\n",
    "        total_loss += loss.item()\n",
    "    print(f\"Epoch {epoch+1}/{EPOCHS}, Loss: {total_loss:.4f}\")\n"
   ]
  },
  {
   "cell_type": "code",
   "execution_count": 7,
   "id": "916e21a8-4d58-4e17-981a-e8a3d7a78388",
   "metadata": {},
   "outputs": [
    {
     "name": "stdout",
     "output_type": "stream",
     "text": [
      "✅ 정확도: 0.9583\n"
     ]
    }
   ],
   "source": [
    "# ✅ 7. 예측 및 정확도 평가\n",
    "resnet.eval()\n",
    "with torch.no_grad():\n",
    "    outputs = resnet(X_test_3c)\n",
    "    y_pred_classes = torch.argmax(outputs, axis=1)\n",
    "    y_true_classes = torch.argmax(y_test_tensor, axis=1)\n",
    "\n",
    "acc = metrics.accuracy_score(y_true_classes, y_pred_classes)\n",
    "print(f\"✅ 정확도: {acc:.4f}\")\n"
   ]
  },
  {
   "cell_type": "code",
   "execution_count": 8,
   "id": "c4bd0da1-50b6-4b35-92c6-8528b48542ea",
   "metadata": {},
   "outputs": [
    {
     "name": "stdout",
     "output_type": "stream",
     "text": [
      "              precision    recall  f1-score   support\n",
      "\n",
      "           0       1.00      0.97      0.98        33\n",
      "           1       0.97      1.00      0.98        28\n",
      "           2       0.97      1.00      0.99        33\n",
      "           3       1.00      0.97      0.99        34\n",
      "           4       0.94      1.00      0.97        46\n",
      "           5       1.00      0.81      0.89        47\n",
      "           6       0.95      1.00      0.97        35\n",
      "           7       1.00      0.97      0.99        34\n",
      "           8       1.00      0.97      0.98        30\n",
      "           9       0.83      0.95      0.88        40\n",
      "\n",
      "    accuracy                           0.96       360\n",
      "   macro avg       0.96      0.96      0.96       360\n",
      "weighted avg       0.96      0.96      0.96       360\n",
      "\n"
     ]
    },
    {
     "data": {
      "image/png": "[encoded data removed]",
      "text/plain": [
       "<Figure size 640x480 with 2 Axes>"
      ]
     },
     "metadata": {},
     "output_type": "display_data"
    }
   ],
   "source": [
    "# ✅ 8. 분류 리포트 & Confusion Matrix\n",
    "from sklearn.metrics import classification_report, ConfusionMatrixDisplay\n",
    "\n",
    "print(classification_report(y_true_classes, y_pred_classes, zero_division=0))\n",
    "ConfusionMatrixDisplay.from_predictions(y_true_classes, y_pred_classes, cmap='Blues')\n",
    "plt.show()\n"
   ]
  },
  {
   "cell_type": "code",
   "execution_count": 10,
   "id": "cc0d0cfd-1858-43dd-9107-09c7a9414cd9",
   "metadata": {},
   "outputs": [
    {
     "data": {
      "image/png": "[encoded data removed]",
      "text/plain": [
       "<Figure size 640x480 with 1 Axes>"
      ]
     },
     "metadata": {},
     "output_type": "display_data"
    }
   ],
   "source": [
    "# ✅ 9. 예측 이미지 시각화\n",
    "idx = 15  # 인덱스 조정 가능\n",
    "plt.imshow(X_test_tensor[idx][0], cmap='gray')\n",
    "plt.title(f\"Predict: {y_pred_classes[idx].item()}, Actual: {y_true_classes[idx].item()}\")\n",
    "plt.axis('off')\n",
    "plt.show()\n"
   ]
  },
  {
   "cell_type": "code",
   "execution_count": null,
   "id": "a54ae0b3-a5b1-4b01-a79d-9a3072067943",
   "metadata": {},
   "outputs": [],
   "source": []
  }
 ],
 "metadata": {
  "kernelspec": {
   "display_name": "Python 3 (ipykernel)",
   "language": "python",
   "name": "python3"
  },
  "language_info": {
   "codemirror_mode": {
    "name": "ipython",
    "version": 3
   },
   "file_extension": ".py",
   "mimetype": "text/x-python",
   "name": "python",
   "nbconvert_exporter": "python",
   "pygments_lexer": "ipython3",
   "version": "3.9.16"
  }
 },
 "nbformat": 4,
 "nbformat_minor": 5
}
