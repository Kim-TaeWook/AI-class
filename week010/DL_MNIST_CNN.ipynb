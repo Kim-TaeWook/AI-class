{
 "cells": [
  {
   "cell_type": "markdown",
   "id": "4d203a77-75d6-4063-a61d-76ff620b3817",
   "metadata": {},
   "source": [
    "# **✅ 1. 라이브러리 불러오기**\n",
    "딥러닝을 위한 PyTorch 및 전처리용 scikit-learn 라이브러리들을 불러옵니다."
   ]
  },
  {
   "cell_type": "code",
   "execution_count": 1,
   "id": "03b122ab-302d-4873-be11-b296af3ffa94",
   "metadata": {},
   "outputs": [],
   "source": [
    "import numpy as np\n",
    "import matplotlib.pyplot as plt\n",
    "from sklearn import datasets, metrics\n",
    "from sklearn.model_selection import train_test_split\n",
    "from sklearn.preprocessing import OneHotEncoder, StandardScaler\n",
    "\n",
    "import torch\n",
    "import torch.nn as nn\n",
    "import torch.nn.functional as F\n",
    "from torch.utils.data import DataLoader, TensorDataset"
   ]
  },
  {
   "cell_type": "markdown",
   "id": "509c82f9-d638-4b1a-b30d-01a48d1b8da5",
   "metadata": {},
   "source": [
    "# **✅ 2. 데이터 로드 및 구조 확인**\n",
    "sklearn.datasets.load_digits()로 손글씨 숫자 이미지 데이터를 불러옵니다.\n",
    "\n",
    "각 이미지는 8x8 크기의 흑백 이미지입니다."
   ]
  },
  {
   "cell_type": "code",
   "execution_count": 2,
   "id": "720650e3-de8e-4a53-9efb-7eb745b1e1b2",
   "metadata": {},
   "outputs": [],
   "source": [
    "# Load digits dataset\n",
    "digits = datasets.load_digits()\n",
    "X = digits.images  # (1797, 8, 8)\n",
    "y = digits.target.reshape(-1, 1)  # (1797, 1)"
   ]
  },
  {
   "cell_type": "code",
   "execution_count": 3,
   "id": "f0335da2-273f-47c3-bfd6-eb0e41311a00",
   "metadata": {},
   "outputs": [
    {
     "name": "stdout",
     "output_type": "stream",
     "text": [
      "X shape: (1797, 8, 8)\n",
      "y shape: (1797, 1)\n"
     ]
    }
   ],
   "source": [
    "print(\"X shape:\", X.shape)\n",
    "print(\"y shape:\", y.shape)"
   ]
  },
  {
   "cell_type": "markdown",
   "id": "840de9a7-55b8-4e78-bf9a-afde4e1b3f0a",
   "metadata": {},
   "source": [
    "# ✅ **3. 이미지 정규화 및 텐서 형태 변경**\n",
    "픽셀 값을 0~1 범위로 스케일링한 뒤 CNN 입력에 맞게 (N, C, H, W)로 바꿉니다.\n",
    "\n",
    "- C=1: 흑백\n",
    "- H=W=8: 8x8 이미지"
   ]
  },
  {
   "cell_type": "code",
   "execution_count": 4,
   "id": "b7283754-9ab8-41d3-9902-12c9581c3255",
   "metadata": {},
   "outputs": [],
   "source": [
    "# 정규화 (0~1 사이)\n",
    "X = X / 16.0\n",
    "\n",
    "# CNN 입력 형태로 변환 (N, 1, 8, 8)\n",
    "X = X[:, np.newaxis, :, :]"
   ]
  },
  {
   "cell_type": "code",
   "execution_count": 5,
   "id": "b9330b32-2c7d-4da2-93b7-cc26ca9413b0",
   "metadata": {},
   "outputs": [
    {
     "name": "stdout",
     "output_type": "stream",
     "text": [
      "정규화 후 X 평균: 0.30526028624095713 표준편차: 0.3760492217920148\n"
     ]
    }
   ],
   "source": [
    "print(\"정규화 후 X 평균:\", np.mean(X), \"표준편차:\", np.std(X))"
   ]
  },
  {
   "cell_type": "markdown",
   "id": "10338e01-fa41-4192-808e-27c8607af6c1",
   "metadata": {},
   "source": [
    "# **✅ 4. 라벨 One-hot 인코딩**\n",
    "다중 클래스 분류(CrossEntropyLoss)를 위해 라벨을 one-hot 벡터로 변환합니다."
   ]
  },
  {
   "cell_type": "code",
   "execution_count": 6,
   "id": "b5367bf8-e956-42d8-aa08-ca9ac90187fb",
   "metadata": {},
   "outputs": [],
   "source": [
    "# One-hot 인코딩\n",
    "encoder = OneHotEncoder(sparse_output=False)\n",
    "y_encoded = encoder.fit_transform(y)"
   ]
  },
  {
   "cell_type": "code",
   "execution_count": 7,
   "id": "078d4e8e-1652-4f11-a6c8-6e40224383a9",
   "metadata": {},
   "outputs": [
    {
     "name": "stdout",
     "output_type": "stream",
     "text": [
      "One-hot 인코딩 예시:\n",
      " [[1. 0. 0. 0. 0. 0. 0. 0. 0. 0.]\n",
      " [0. 1. 0. 0. 0. 0. 0. 0. 0. 0.]]\n"
     ]
    }
   ],
   "source": [
    "print(\"One-hot 인코딩 예시:\\n\", y_encoded[:2])"
   ]
  },
  {
   "cell_type": "markdown",
   "id": "6b56f3c9-5597-4e9f-ad64-c80ed2e6a4d1",
   "metadata": {},
   "source": [
    "# **✅ 5. 학습용/평가용 데이터 분리**\n",
    "학습 데이터를 80%, 테스트 데이터를 20%로 나눕니다."
   ]
  },
  {
   "cell_type": "code",
   "execution_count": 8,
   "id": "884d2f7b-94d0-4e6b-a130-9ec2c4c8ec3a",
   "metadata": {},
   "outputs": [],
   "source": [
    "# Train / Test 분리\n",
    "X_train, X_test, y_train, y_test = train_test_split(\n",
    "    X, y_encoded, test_size=0.2, random_state=42\n",
    ")\n"
   ]
  },
  {
   "cell_type": "code",
   "execution_count": 9,
   "id": "6acff79f-a327-49f6-85e6-6e304c737909",
   "metadata": {},
   "outputs": [
    {
     "name": "stdout",
     "output_type": "stream",
     "text": [
      "학습 X: (1437, 1, 8, 8)\n",
      "테스트 X: (360, 1, 8, 8)\n"
     ]
    }
   ],
   "source": [
    "print(\"학습 X:\", X_train.shape)\n",
    "print(\"테스트 X:\", X_test.shape)"
   ]
  },
  {
   "cell_type": "markdown",
   "id": "c120275c-5a01-4760-b654-b8dcb5563706",
   "metadata": {},
   "source": [
    "# **✅ 6. 텐서 변환 및 DataLoader 구성**\n",
    "PyTorch는 numpy 배열 대신 Tensor를 사용합니다.\n",
    "\n",
    "또한 DataLoader를 통해 미니배치 학습을 지원합니다."
   ]
  },
  {
   "cell_type": "code",
   "execution_count": 10,
   "id": "00b28df2-a04e-44e1-a4ff-c809e62ed09c",
   "metadata": {},
   "outputs": [],
   "source": [
    "# 텐서로 변환\n",
    "X_train_tensor = torch.FloatTensor(X_train)\n",
    "y_train_tensor = torch.FloatTensor(y_train)\n",
    "X_test_tensor = torch.FloatTensor(X_test)\n",
    "y_test_tensor = torch.FloatTensor(y_test)\n",
    "\n",
    "# DataLoader 구성\n",
    "train_dataset = TensorDataset(X_train_tensor, y_train_tensor)\n",
    "train_loader = DataLoader(train_dataset, batch_size=32, shuffle=True)"
   ]
  },
  {
   "cell_type": "code",
   "execution_count": 11,
   "id": "35dd4aec-2a2d-4de3-ade2-b16e89017984",
   "metadata": {},
   "outputs": [
    {
     "name": "stdout",
     "output_type": "stream",
     "text": [
      "배치 X: torch.Size([32, 1, 8, 8]) 배치 y: torch.Size([32, 10])\n"
     ]
    }
   ],
   "source": [
    "# 미니배치 확인\n",
    "for batch_X, batch_y in train_loader:\n",
    "    print(\"배치 X:\", batch_X.shape, \"배치 y:\", batch_y.shape)\n",
    "    break"
   ]
  },
  {
   "cell_type": "markdown",
   "id": "920289b4-3484-4047-96dc-0fa42b51bc06",
   "metadata": {},
   "source": [
    "# **✅ 7. CNN 모델 구성**\n",
    "2개의 Convolution 레이어 + Fully connected layer 구조입니다."
   ]
  },
  {
   "cell_type": "code",
   "execution_count": 12,
   "id": "3fb033c6-63c0-4d91-a36a-6153500b6fe4",
   "metadata": {},
   "outputs": [],
   "source": [
    "class CNN(nn.Module):\n",
    "    def __init__(self):\n",
    "        super(CNN, self).__init__()\n",
    "        self.conv1 = nn.Conv2d(1, 16, kernel_size=3, padding=1)\n",
    "        self.pool = nn.MaxPool2d(2, 2)\n",
    "        self.conv2 = nn.Conv2d(16, 32, kernel_size=3, padding=1)\n",
    "        self.fc1 = nn.Linear(32 * 2 * 2, 64)\n",
    "        self.fc2 = nn.Linear(64, 10)\n",
    "\n",
    "    def forward(self, x):\n",
    "        x = self.pool(F.relu(self.conv1(x)))   # (N, 16, 4, 4)\n",
    "        x = self.pool(F.relu(self.conv2(x)))   # (N, 32, 2, 2)\n",
    "        x = x.reshape(-1, 32 * 2 * 2)           # flatten\n",
    "        x = F.relu(self.fc1(x))\n",
    "        x = self.fc2(x)\n",
    "        return F.softmax(x, dim=1)\n",
    "\n",
    "model = CNN()"
   ]
  },
  {
   "cell_type": "markdown",
   "id": "40b6a3c1-9c3a-4a49-bd9d-986633249682",
   "metadata": {},
   "source": [
    "# **✅ 8. 손실 함수와 옵티마이저 설정**\n",
    "분류 문제에 적합한 CrossEntropyLoss와 Adam을 사용합니다."
   ]
  },
  {
   "cell_type": "code",
   "execution_count": 13,
   "id": "c57ed320-c03b-459a-ab10-252276d346e3",
   "metadata": {},
   "outputs": [],
   "source": [
    "criterion = nn.CrossEntropyLoss()\n",
    "optimizer = torch.optim.Adam(model.parameters(), lr=0.001)"
   ]
  },
  {
   "cell_type": "markdown",
   "id": "85a8eda7-c421-4581-9b21-38e8a195c209",
   "metadata": {},
   "source": [
    "# **✅ 9. 모델 학습**\n",
    "20 epoch 동안 미니배치 학습을 수행하고, 각 epoch마다 손실을 출력합니다."
   ]
  },
  {
   "cell_type": "code",
   "execution_count": 14,
   "id": "a55695b4-fc2d-4139-aaa0-79e1ca55bf1a",
   "metadata": {},
   "outputs": [
    {
     "name": "stdout",
     "output_type": "stream",
     "text": [
      "Epoch 1/20, Loss: 103.2419\n",
      "Epoch 2/20, Loss: 96.9298\n",
      "Epoch 3/20, Loss: 84.0107\n",
      "Epoch 4/20, Loss: 78.0677\n",
      "Epoch 5/20, Loss: 75.5413\n",
      "Epoch 6/20, Loss: 74.5271\n",
      "Epoch 7/20, Loss: 73.7744\n",
      "Epoch 8/20, Loss: 73.3713\n",
      "Epoch 9/20, Loss: 72.9945\n",
      "Epoch 10/20, Loss: 72.6900\n",
      "Epoch 11/20, Loss: 71.7351\n",
      "Epoch 12/20, Loss: 70.0825\n",
      "Epoch 13/20, Loss: 69.4345\n",
      "Epoch 14/20, Loss: 69.1256\n",
      "Epoch 15/20, Loss: 68.6597\n",
      "Epoch 16/20, Loss: 68.4894\n",
      "Epoch 17/20, Loss: 68.1094\n",
      "Epoch 18/20, Loss: 67.8632\n",
      "Epoch 19/20, Loss: 67.8199\n",
      "Epoch 20/20, Loss: 67.6137\n"
     ]
    }
   ],
   "source": [
    "EPOCHS = 20\n",
    "for epoch in range(EPOCHS):\n",
    "    total_loss = 0\n",
    "    for batch_x, batch_y in train_loader:\n",
    "        optimizer.zero_grad()\n",
    "        outputs = model(batch_x)\n",
    "        labels = torch.max(batch_y, 1)[1]\n",
    "        loss = criterion(outputs, labels)\n",
    "        loss.backward()\n",
    "        optimizer.step()\n",
    "        total_loss += loss.item()\n",
    "    print(f\"Epoch {epoch+1}/{EPOCHS}, Loss: {total_loss:.4f}\")"
   ]
  },
  {
   "cell_type": "markdown",
   "id": "5d1701d9-5611-4fab-80a8-8923a826f301",
   "metadata": {},
   "source": [
    "# **✅ 10. 예측 및 정확도 계산**\n",
    "모델 평가 단계에서는 no_grad()로 그래디언트 계산을 끕니다."
   ]
  },
  {
   "cell_type": "code",
   "execution_count": 15,
   "id": "69671f14-6af1-41b7-977f-96841e1003ed",
   "metadata": {},
   "outputs": [
    {
     "name": "stdout",
     "output_type": "stream",
     "text": [
      "✅ 정확도: 0.9750\n"
     ]
    }
   ],
   "source": [
    "model.eval()\n",
    "with torch.no_grad():\n",
    "    y_pred_probs = model(X_test_tensor)\n",
    "    y_pred_classes = torch.argmax(y_pred_probs, axis=1)\n",
    "    y_true_classes = torch.argmax(y_test_tensor, axis=1)  # one-hot encoding이라면\n",
    "                                                          # 만약 y_test_tensor가 원-핫 인코딩이 아니라 정수 클래스라면 y_true_classes = y_test_tensor 로만 두면 됩니다.\n",
    "# 정확도\n",
    "acc = metrics.accuracy_score(y_true_classes, y_pred_classes)\n",
    "print(f\"✅ 정확도: {acc:.4f}\")"
   ]
  },
  {
   "cell_type": "markdown",
   "id": "ac0999ad-bc79-4b50-a86c-0ce7319a7484",
   "metadata": {},
   "source": [
    "# **✅ 11. Confusion Matrix 및 분류 리포트**\n",
    "정확도 외에도 precision, recall, f1-score 등 다양한 평가 지표를 확인합니다."
   ]
  },
  {
   "cell_type": "code",
   "execution_count": 16,
   "id": "0c029154-ae42-4dbb-b1d2-ef170d0c754e",
   "metadata": {},
   "outputs": [
    {
     "name": "stdout",
     "output_type": "stream",
     "text": [
      "              precision    recall  f1-score   support\n",
      "\n",
      "           0       1.00      1.00      1.00        33\n",
      "           1       0.96      0.89      0.93        28\n",
      "           2       0.94      1.00      0.97        33\n",
      "           3       1.00      0.97      0.99        34\n",
      "           4       0.98      1.00      0.99        46\n",
      "           5       0.98      0.98      0.98        47\n",
      "           6       0.97      1.00      0.99        35\n",
      "           7       1.00      1.00      1.00        34\n",
      "           8       0.93      0.90      0.92        30\n",
      "           9       0.97      0.97      0.97        40\n",
      "\n",
      "    accuracy                           0.97       360\n",
      "   macro avg       0.97      0.97      0.97       360\n",
      "weighted avg       0.98      0.97      0.97       360\n",
      "\n"
     ]
    },
    {
     "data": {
      "image/png": "[encoded data removed]",
      "text/plain": [
       "<Figure size 640x480 with 2 Axes>"
      ]
     },
     "metadata": {},
     "output_type": "display_data"
    }
   ],
   "source": [
    "# 리포트 & Confusion Matrix\n",
    "from sklearn.metrics import classification_report, ConfusionMatrixDisplay\n",
    "\n",
    "print(classification_report(y_true_classes, y_pred_classes, zero_division=0))\n",
    "ConfusionMatrixDisplay.from_predictions(y_true_classes, y_pred_classes, cmap='Blues')\n",
    "plt.show()"
   ]
  },
  {
   "cell_type": "markdown",
   "id": "83a56979-783e-46aa-9787-7ed6a504ba5b",
   "metadata": {},
   "source": [
    "# **✅ 12. 예측 이미지 시각화**\n",
    "실제 숫자 이미지와 모델의 예측 결과를 같이 시각화합니다."
   ]
  },
  {
   "cell_type": "code",
   "execution_count": 17,
   "id": "1cadbafb-da80-45eb-b3db-900febe982f0",
   "metadata": {},
   "outputs": [
    {
     "data": {
      "image/png": "[encoded data removed]",
      "text/plain": [
       "<Figure size 640x480 with 1 Axes>"
      ]
     },
     "metadata": {},
     "output_type": "display_data"
    }
   ],
   "source": [
    "#한글 폰트 적용\n",
    "plt.rcParams['font.family'] = 'Malgun Gothic'  # 윈도우 기준\n",
    "plt.rcParams['axes.unicode_minus'] = False     # 마이너스 깨짐 방지\n",
    "\n",
    "idx = 12  # 예시 인덱스\n",
    "plt.imshow(X_test_tensor[idx][0], cmap='gray')\n",
    "plt.title(f\"예측: {y_pred_classes[idx].item()}, 실제: {y_true_classes[idx].item()}\")\n",
    "plt.axis('off')\n",
    "plt.show()"
   ]
  },
  {
   "cell_type": "code",
   "execution_count": null,
   "id": "e8810149-24cd-4d54-8e44-89c46778ad63",
   "metadata": {},
   "outputs": [],
   "source": []
  }
 ],
 "metadata": {
  "kernelspec": {
   "display_name": "Python 3 (ipykernel)",
   "language": "python",
   "name": "python3"
  },
  "language_info": {
   "codemirror_mode": {
    "name": "ipython",
    "version": 3
   },
   "file_extension": ".py",
   "mimetype": "text/x-python",
   "name": "python",
   "nbconvert_exporter": "python",
   "pygments_lexer": "ipython3",
   "version": "3.9.16"
  }
 },
 "nbformat": 4,
 "nbformat_minor": 5
}
